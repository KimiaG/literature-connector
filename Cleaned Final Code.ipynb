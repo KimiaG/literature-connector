{
 "cells": [
  {
   "cell_type": "markdown",
   "metadata": {},
   "source": [
    "## Text Processing\n",
    "<li>Extract short lyrics</li>\n",
    "<li>Create short lyric table</li>\n",
    "\n",
    "## Formal Structure\n",
    "<li>CMU Pronouncing Dictionary</li>\n",
    "<li>Assonance Function</li>\n",
    "\n",
    "## Concreteness/Abstractness\n",
    "<li>WordNet Processing</li>\n",
    "<li>Defining concreteness metric</li>\n",
    "<li>Normalization by line</li>\n",
    "\n",
    "## Classification\n",
    "<li>Flat clustering of lines</li>"
   ]
  },
  {
   "cell_type": "markdown",
   "metadata": {},
   "source": [
    "# Preparation"
   ]
  },
  {
   "cell_type": "code",
   "execution_count": 313,
   "metadata": {
    "collapsed": false
   },
   "outputs": [
    {
     "name": "stdout",
     "output_type": "stream",
     "text": [
      "Populating the interactive namespace from numpy and matplotlib\n"
     ]
    },
    {
     "name": "stderr",
     "output_type": "stream",
     "text": [
      "WARNING: pylab import has clobbered these variables: ['percentile', 'colors', 'Formatter', 'Circle', 'DateFormatter']\n",
      "`%matplotlib` prevents importing * from pylab and numpy\n"
     ]
    }
   ],
   "source": [
    "%pylab inline\n",
    "import numpy as np\n",
    "from datascience import *\n",
    "import pandas as pd\n",
    "import string\n",
    "import nltk\n",
    "from nltk.corpus import cmudict"
   ]
  },
  {
   "cell_type": "code",
   "execution_count": 314,
   "metadata": {
    "collapsed": false
   },
   "outputs": [
    {
     "name": "stdout",
     "output_type": "stream",
     "text": [
      "[nltk_data] Downloading package averaged_perceptron_tagger to\n",
      "[nltk_data]     /Users/kimia/nltk_data...\n",
      "[nltk_data]   Package averaged_perceptron_tagger is already up-to-\n",
      "[nltk_data]       date!\n",
      "[nltk_data] Downloading package maxent_ne_chunker to\n",
      "[nltk_data]     /Users/kimia/nltk_data...\n",
      "[nltk_data]   Package maxent_ne_chunker is already up-to-date!\n",
      "[nltk_data] Downloading package punkt to /Users/kimia/nltk_data...\n",
      "[nltk_data]   Package punkt is already up-to-date!\n",
      "[nltk_data] Downloading package words to /Users/kimia/nltk_data...\n",
      "[nltk_data]   Package words is already up-to-date!\n",
      "[nltk_data] Downloading package cmudict to /Users/kimia/nltk_data...\n",
      "[nltk_data]   Package cmudict is already up-to-date!\n",
      "[nltk_data] Downloading package wordnet to /Users/kimia/nltk_data...\n",
      "[nltk_data]   Package wordnet is already up-to-date!\n"
     ]
    }
   ],
   "source": [
    "modules = [\"averaged_perceptron_tagger\", \"maxent_ne_chunker\", \"punkt\",\\\n",
    "           \"words\", \"cmudict\", \"wordnet\"]\n",
    "\n",
    "for module in modules:\n",
    "    nltk.download(module)"
   ]
  },
  {
   "cell_type": "code",
   "execution_count": 315,
   "metadata": {
    "collapsed": true
   },
   "outputs": [],
   "source": [
    "##Constants\n",
    "invalid_input = 'nan'\n",
    "max_length = 10"
   ]
  },
  {
   "cell_type": "code",
   "execution_count": 316,
   "metadata": {
    "collapsed": true
   },
   "outputs": [],
   "source": [
    "##Read in files\n",
    "with open('pound_poems.txt') as file_in:\n",
    "    collection = file_in.read()\n",
    "collection_list = collection.split('\\n'*5)"
   ]
  },
  {
   "cell_type": "code",
   "execution_count": 317,
   "metadata": {
    "collapsed": true
   },
   "outputs": [],
   "source": [
    "titles = []\n",
    "dates = []\n",
    "collections = []\n",
    "lines = []\n",
    "poem_length = []\n",
    "for poem in collection_list:\n",
    "    line_list = poem.split('\\n')\n",
    "    dates.append(line_list.pop(0))\n",
    "    collections.append(line_list.pop(0))\n",
    "    titles.append(line_list.pop(0))\n",
    "    lines.append(line_list)\n",
    "    poem_length.append(len(line_list))"
   ]
  },
  {
   "cell_type": "code",
   "execution_count": 318,
   "metadata": {
    "collapsed": false
   },
   "outputs": [],
   "source": [
    "raw_poem_tb = Table().with_columns([\n",
    "        'Title', titles,\n",
    "        'Text', lines,\n",
    "        'Number of Lines', poem_length,\n",
    "        'Publication Date', dates,\n",
    "        'Anthology', collections\n",
    "    ]).sort('Publication Date')"
   ]
  },
  {
   "cell_type": "code",
   "execution_count": 319,
   "metadata": {
    "collapsed": true
   },
   "outputs": [],
   "source": [
    "reception_mask = (raw_poem_tb['Number of Lines'] <= max_length)\n",
    "short_lyric_tb = raw_poem_tb.where(reception_mask)"
   ]
  },
  {
   "cell_type": "code",
   "execution_count": 320,
   "metadata": {
    "collapsed": false
   },
   "outputs": [],
   "source": [
    "##Re-organize table with one poem per column\n",
    "poem_tb = Table(short_lyric_tb['Title'])\n",
    "construct_columns = [[], [], [], [], [], [], [], [], [], []]\n",
    "for poem in short_lyric_tb['Text']:\n",
    "    for x in range(0, max_length):\n",
    "        if x < len(poem):\n",
    "            construct_columns[x].append(poem[x])\n",
    "        else:\n",
    "            construct_columns[x].append(invalid_input)\n",
    "poem_tb = poem_tb.with_rows(construct_columns)"
   ]
  },
  {
   "cell_type": "code",
   "execution_count": null,
   "metadata": {
    "collapsed": true
   },
   "outputs": [],
   "source": [
    "poem_tb"
   ]
  },
  {
   "cell_type": "markdown",
   "metadata": {},
   "source": [
    "# Analysis"
   ]
  },
  {
   "cell_type": "code",
   "execution_count": 321,
   "metadata": {
    "collapsed": true
   },
   "outputs": [],
   "source": [
    "#Final data table containing results of study\n",
    "output_tb = Table().with_column('Title', short_lyric_tb['Title'])"
   ]
  },
  {
   "cell_type": "markdown",
   "metadata": {},
   "source": [
    "## Measuring Formal Structure"
   ]
  },
  {
   "cell_type": "code",
   "execution_count": 322,
   "metadata": {
    "collapsed": true
   },
   "outputs": [],
   "source": [
    "def cleaned_line(line):\n",
    "    s = line\n",
    "    s = \"\".join(char for char in s if char not in string.punctuation)\n",
    "    s = s.replace('-', ' ')\n",
    "    return s.lower()"
   ]
  },
  {
   "cell_type": "code",
   "execution_count": 323,
   "metadata": {
    "collapsed": true
   },
   "outputs": [],
   "source": [
    "def final_words(poem):\n",
    "    return [line.rsplit(None, 1)[-1] for line in poem if line != invalid_input]"
   ]
  },
  {
   "cell_type": "code",
   "execution_count": 324,
   "metadata": {
    "collapsed": true
   },
   "outputs": [],
   "source": [
    "# list of words for which we have pronunciations\n",
    "words = cmudict.words()      \n",
    "# keys are words, values are lists of pronunciations for each word\n",
    "dictionary = cmudict.dict()  \n",
    "# list of tuples, where first entry is word, second is pronunciation\n",
    "entries = cmudict.entries()  "
   ]
  },
  {
   "cell_type": "markdown",
   "metadata": {},
   "source": [
    "***Consider re-writing so that this returns 1 or 0 instead of a predicate***"
   ]
  },
  {
   "cell_type": "code",
   "execution_count": 325,
   "metadata": {
    "collapsed": true
   },
   "outputs": [],
   "source": [
    "'''Formal structure for the purpose of this study is measured by assonance \n",
    "as defined below'''\n",
    "def is_assonant(word1, word2):\n",
    "    if dictionary.get(word1) == None or dictionary.get(word2) == None:\n",
    "        return False\n",
    "    sounds1 = [char for char in dictionary.get(word1)[0] if len(char) > 2]\n",
    "    sounds2 = [char for char in dictionary.get(word2)[0] if len(char) > 2]\n",
    "    for char1 in sounds1:\n",
    "        for char2 in sounds2:\n",
    "            if (char1[0:2] == char2[0:2]):\n",
    "                return True\n",
    "    return False"
   ]
  },
  {
   "cell_type": "markdown",
   "metadata": {},
   "source": [
    "**Optimize this function it's a mess. Other potential changes:**\n",
    "<li>Every other line assonance</li>\n",
    "<li>Inter-line assonance</li>\n",
    "<li>Some constraints: I don't want 'tissue' and 'napkin' to be assonant,       but I do want 'me' and 'morality' to be assonant, for example. Try, if     the emphasis is on the same syllable OR the sound occurs at the end of     the word.</li>"
   ]
  },
  {
   "cell_type": "code",
   "execution_count": 350,
   "metadata": {
    "collapsed": false
   },
   "outputs": [],
   "source": [
    "#Assigns value of 1 to rhyming lines and value of 0 to non-rhyming lines\n",
    "def apply_rhyming_metric(poem):\n",
    "    numeric_translation = []\n",
    "    for i in range(len(poem)):\n",
    "        numeric_translation.append(0)\n",
    "    for i in range(len(poem) - 1):\n",
    "        if is_assonant(poem[i], poem[i+1]):\n",
    "            if numeric_translation[i] < 1:\n",
    "                numeric_translation[i] += 1\n",
    "            if numeric_translation[i+1] < 1:\n",
    "                numeric_translation[i+1] += 1\n",
    "        '''\n",
    "        The following code attempts to consider lines offset by one\n",
    "        if i < len(poem) - 2:\n",
    "            if is_assonant(poem[i], poem[i+2]):\n",
    "                if numeric_translation[i] < 1:\n",
    "                    numeric_translation[i] += 1\n",
    "                if numeric_translation[i+2] < 1:\n",
    "                    numeric_translation[i+2] += 1\n",
    "        '''\n",
    "    return numeric_translation"
   ]
  },
  {
   "cell_type": "code",
   "execution_count": 351,
   "metadata": {
    "collapsed": true
   },
   "outputs": [],
   "source": [
    "#Get rid of punctuation\n",
    "short_lyrics = short_lyric_tb['Text']\n",
    "cleaned_poems = []\n",
    "for poem in short_lyrics:\n",
    "    cleaned_poems.append([cleaned_line(line) for line in poem])"
   ]
  },
  {
   "cell_type": "code",
   "execution_count": 352,
   "metadata": {
    "collapsed": true
   },
   "outputs": [],
   "source": [
    "#Create column array measuring formal structure\n",
    "formal_structure = [\n",
    "    apply_rhyming_metric(final_word(poem)) for poem in cleaned_poems]"
   ]
  },
  {
   "cell_type": "code",
   "execution_count": 353,
   "metadata": {
    "collapsed": true
   },
   "outputs": [],
   "source": [
    "output_tb = output_tb.with_column('Form', formal_structure)"
   ]
  },
  {
   "cell_type": "markdown",
   "metadata": {},
   "source": [
    "## Measuring Abstractness"
   ]
  },
  {
   "cell_type": "code",
   "execution_count": 354,
   "metadata": {
    "collapsed": true
   },
   "outputs": [],
   "source": [
    "##Import stemming tools\n",
    "from nltk.tokenize import word_tokenize\n",
    "from nltk.stem.lancaster import LancasterStemmer\n",
    "from nltk.stem.snowball  import SnowballStemmer\n",
    "from nltk.stem import WordNetLemmatizer"
   ]
  },
  {
   "cell_type": "code",
   "execution_count": 355,
   "metadata": {
    "collapsed": true
   },
   "outputs": [],
   "source": [
    "##Import POS tagging tools\n",
    "from nltk.tag.perceptron import PerceptronTagger\n",
    "from nltk.tag.brill import BrillTagger\n",
    "from nltk.tag.stanford import StanfordTagger, StanfordPOSTagger, StanfordNERTagger"
   ]
  },
  {
   "cell_type": "code",
   "execution_count": 356,
   "metadata": {
    "collapsed": true
   },
   "outputs": [],
   "source": [
    "from nltk.tokenize import word_tokenize, sent_tokenize\n",
    "from nltk.corpus import wordnet as wn"
   ]
  },
  {
   "cell_type": "code",
   "execution_count": 357,
   "metadata": {
    "collapsed": true
   },
   "outputs": [],
   "source": [
    "wnl = WordNetLemmatizer()\n",
    "english_stemmer = SnowballStemmer('english')"
   ]
  },
  {
   "cell_type": "code",
   "execution_count": 358,
   "metadata": {
    "collapsed": true
   },
   "outputs": [],
   "source": [
    "def total_line_depth(line):\n",
    "    depths = []\n",
    "    for word in line.split():\n",
    "        synset = wn.synsets(word)\n",
    "        if synset != []:\n",
    "            depths.append(synset[0].max_depth())\n",
    "    return sum(depths) / len(line)"
   ]
  },
  {
   "cell_type": "code",
   "execution_count": 359,
   "metadata": {
    "collapsed": true
   },
   "outputs": [],
   "source": [
    "def apply_abstract_metric(poem):\n",
    "    return [total_line_depth(line) for line in poem]"
   ]
  },
  {
   "cell_type": "code",
   "execution_count": 360,
   "metadata": {
    "collapsed": true
   },
   "outputs": [],
   "source": [
    "abstract = [apply_abstract_metric(poem) for poem in cleaned_poems]"
   ]
  },
  {
   "cell_type": "code",
   "execution_count": 361,
   "metadata": {
    "collapsed": true
   },
   "outputs": [],
   "source": [
    "output_tb = output_tb.with_column('Concrete/Abstract', abstract)"
   ]
  },
  {
   "cell_type": "markdown",
   "metadata": {},
   "source": [
    "## Unsupervised Classification"
   ]
  },
  {
   "cell_type": "code",
   "execution_count": 362,
   "metadata": {
    "collapsed": true
   },
   "outputs": [],
   "source": [
    "import matplotlib.pyplot as plt\n",
    "from matplotlib import style\n",
    "style.use(\"ggplot\")\n",
    "from sklearn.cluster import KMeans"
   ]
  },
  {
   "cell_type": "markdown",
   "metadata": {},
   "source": [
    "**Example Classification Visualization**"
   ]
  },
  {
   "cell_type": "code",
   "execution_count": 382,
   "metadata": {
    "collapsed": true
   },
   "outputs": [],
   "source": [
    "sample_title = output_tb.column('Title')[26]\n",
    "sample_form = output_tb.column('Form')[26]\n",
    "sample_concreteness = output_tb.column('Concrete/Abstract')[26]"
   ]
  },
  {
   "cell_type": "code",
   "execution_count": 383,
   "metadata": {
    "collapsed": false
   },
   "outputs": [
    {
     "data": {
      "image/png": "[encoded data removed]",
      "text/plain": [
       "<matplotlib.figure.Figure at 0x1186b1898>"
      ]
     },
     "metadata": {},
     "output_type": "display_data"
    }
   ],
   "source": [
    "x = sample_form\n",
    "y = sample_concreteness\n",
    "\n",
    "plt.scatter(x,y)\n",
    "plt.show()"
   ]
  },
  {
   "cell_type": "code",
   "execution_count": 384,
   "metadata": {
    "collapsed": true
   },
   "outputs": [],
   "source": [
    "X = list(zip(sample_form, sample_concreteness))"
   ]
  },
  {
   "cell_type": "code",
   "execution_count": 385,
   "metadata": {
    "collapsed": false
   },
   "outputs": [
    {
     "name": "stdout",
     "output_type": "stream",
     "text": [
      "[[ 1.          0.78790064]\n",
      " [ 0.          1.14285714]]\n",
      "[0 0 1 0 0]\n"
     ]
    }
   ],
   "source": [
    "kmeans = KMeans(n_clusters=2)\n",
    "kmeans.fit(X)\n",
    "\n",
    "centroids = kmeans.cluster_centers_\n",
    "labels = kmeans.labels_\n",
    "\n",
    "print(centroids)\n",
    "print(labels)"
   ]
  },
  {
   "cell_type": "code",
   "execution_count": 386,
   "metadata": {
    "collapsed": false
   },
   "outputs": [
    {
     "name": "stdout",
     "output_type": "stream",
     "text": [
      "coordinate: (1, 0.33333333333333331) label: 0\n",
      "coordinate: (1, 0.90000000000000002) label: 0\n",
      "coordinate: (0, 1.1428571428571428) label: 1\n",
      "coordinate: (1, 0.6875) label: 0\n",
      "coordinate: (1, 1.2307692307692308) label: 0\n"
     ]
    },
    {
     "data": {
      "image/png": "[encoded data removed]",
      "text/plain": [
       "<matplotlib.figure.Figure at 0x1186b1eb8>"
      ]
     },
     "metadata": {},
     "output_type": "display_data"
    }
   ],
   "source": [
    "colors = [\"g.\",\"r.\"]\n",
    "\n",
    "for i in range(len(X)):\n",
    "    print(\"coordinate:\",X[i], \"label:\", labels[i])\n",
    "    plt.plot(X[i][0], X[i][1], colors[labels[i]], markersize = 10)\n",
    "\n",
    "\n",
    "plt.scatter(centroids[:, 0], \n",
    "            centroids[:, 1], \n",
    "            marker = \"x\", \n",
    "            s = 150, \n",
    "            linewidths = 5, \n",
    "            zorder = 10)\n",
    "\n",
    "plt.show()"
   ]
  },
  {
   "cell_type": "code",
   "execution_count": 387,
   "metadata": {
    "collapsed": true
   },
   "outputs": [],
   "source": [
    "#Classify each poem\n",
    "classification = []\n",
    "for i in range(output_tb.num_rows):\n",
    "    form = output_tb.column('Form')[i]\n",
    "    concrete = output_tb.column('Concrete/Abstract')[i]\n",
    "    X = list(zip(form, concrete))\n",
    "    kmeans.fit(X)\n",
    "    classification.append(kmeans.labels_)"
   ]
  },
  {
   "cell_type": "code",
   "execution_count": 388,
   "metadata": {
    "collapsed": true
   },
   "outputs": [],
   "source": [
    "output_tb = output_tb.with_column('Class', classification)"
   ]
  },
  {
   "cell_type": "code",
   "execution_count": 389,
   "metadata": {
    "collapsed": false,
    "scrolled": false
   },
   "outputs": [
    {
     "data": {
      "text/html": [
       "<table border=\"1\" class=\"dataframe\">\n",
       "    <thead>\n",
       "        <tr>\n",
       "            <th>Title</th> <th>Form</th> <th>Concrete/Abstract</th> <th>Class</th>\n",
       "        </tr>\n",
       "    </thead>\n",
       "    <tbody>\n",
       "        <tr>\n",
       "            <td>Fan-Piece, For Her Imperial Lord</td> <td>[0, 0, 0]                     </td> <td>[1.368421052631579, 0.5625, 0.66666666666666663]            </td> <td>[1 0 0]              </td>\n",
       "        </tr>\n",
       "    </tbody>\n",
       "        <tr>\n",
       "            <td>Grace Before Song               </td> <td>[0, 1, 1, 0, 1, 1, 1, 1, 1, 1]</td> <td>[0.82499999999999996, 0.66666666666666663, 0.34999999999 ...</td> <td>[1 0 0 1 0 0 0 0 0 0]</td>\n",
       "        </tr>\n",
       "    </tbody>\n",
       "        <tr>\n",
       "            <td>Ione, Dead the Long Year        </td> <td>[0, 0, 0, 0, 0, 0, 0, 1, 1]   </td> <td>[1.0, 0.78125, 0.625, 1.1111111111111112, 0.666666666666 ...</td> <td>[1 1 1 1 1 1 1 0 0]  </td>\n",
       "        </tr>\n",
       "    </tbody>\n",
       "        <tr>\n",
       "            <td>Ité                             </td> <td>[1, 1, 1, 0, 0]               </td> <td>[0.7441860465116279, 0.0, 0.46341463414634149, 0.6382978 ...</td> <td>[1 1 1 0 0]          </td>\n",
       "        </tr>\n",
       "    </tbody>\n",
       "        <tr>\n",
       "            <td>Meditatio                       </td> <td>[0, 1, 1, 1, 0]               </td> <td>[0.53846153846153844, 0.57692307692307687, 0.70967741935 ...</td> <td>[1 0 0 0 1]          </td>\n",
       "        </tr>\n",
       "    </tbody>\n",
       "        <tr>\n",
       "            <td>Notes for Canto CXX             </td> <td>[0, 0, 0, 1, 1, 0, 0, 0]      </td> <td>[0.69999999999999996, 1.3636363636363635, 1.0, 0.3125, 0 ...</td> <td>[0 0 0 1 1 0 0 0]    </td>\n",
       "        </tr>\n",
       "    </tbody>\n",
       "        <tr>\n",
       "            <td>Statement of Being              </td> <td>[1, 1, 1, 1, 0, 0, 0, 0]      </td> <td>[1.6956521739130435, 0.61904761904761907, 0.310344827586 ...</td> <td>[1 1 1 1 0 0 0 0]    </td>\n",
       "        </tr>\n",
       "    </tbody>\n",
       "        <tr>\n",
       "            <td>Taking Leave of a Friend        </td> <td>[0, 1, 1, 0, 0, 1, 1, 1, 0]   </td> <td>[0.625, 0.69999999999999996, 0.75, 1.0, 1.16129032258064 ...</td> <td>[1 0 0 1 1 0 0 0 1]  </td>\n",
       "        </tr>\n",
       "    </tbody>\n",
       "        <tr>\n",
       "            <td>Tame Cat                        </td> <td>[0, 0, 1, 1, 1, 1, 0]         </td> <td>[0.92307692307692313, 0.65909090909090906, 1.5, 0.795454 ...</td> <td>[1 1 0 0 0 0 1]      </td>\n",
       "        </tr>\n",
       "    </tbody>\n",
       "        <tr>\n",
       "            <td>The Seeing Eye                  </td> <td>[0, 0, 0, 0, 0, 0, 0, 0, 1, 1]</td> <td>[1.2285714285714286, 0.21875, 0.24242424242424243, 0.724 ...</td> <td>[0 0 0 0 0 0 0 0 1 1]</td>\n",
       "        </tr>\n",
       "    </tbody>\n",
       "        <tr>\n",
       "            <td>Alba                            </td> <td>[0, 0, 0]                     </td> <td>[1.2903225806451613, 0.0, 1.0689655172413792]               </td> <td>[0 1 0]              </td>\n",
       "        </tr>\n",
       "    </tbody>\n",
       "        <tr>\n",
       "            <td>And The Days Are Not Full Enough</td> <td>[1, 1, 0, 0]                  </td> <td>[0.71875, 0.6470588235294118, 1.3333333333333333, 0.9047 ...</td> <td>[0 0 1 1]            </td>\n",
       "        </tr>\n",
       "    </tbody>\n",
       "        <tr>\n",
       "            <td>Tally-O                         </td> <td>[0, 0, 0, 0]                  </td> <td>[0.47222222222222221, 0.5957446808510638, 1.186046511627 ...</td> <td>[0 0 1 0]            </td>\n",
       "        </tr>\n",
       "    </tbody>\n",
       "        <tr>\n",
       "            <td>L'Art                           </td> <td>[0, 0]                        </td> <td>[0.76190476190476186, 1.0425531914893618]                   </td> <td>[0 1]                </td>\n",
       "        </tr>\n",
       "    </tbody>\n",
       "        <tr>\n",
       "            <td>A Girl                          </td> <td>[0, 0, 0, 0, 1, 1, 1, 0, 0, 0]</td> <td>[0.89655172413793105, 0.7857142857142857, 0.9375, 0.0, 1 ...</td> <td>[0 0 0 0 1 1 1 0 0 0]</td>\n",
       "        </tr>\n",
       "    </tbody>\n",
       "        <tr>\n",
       "            <td>An Object                       </td> <td>[0, 0, 0, 0]                  </td> <td>[0.65116279069767447, 0.54166666666666663, 0.5625, 0.296 ...</td> <td>[0 0 0 1]            </td>\n",
       "        </tr>\n",
       "    </tbody>\n",
       "        <tr>\n",
       "            <td>An Immorality                   </td> <td>[0, 1, 1, 0, 1, 1, 1, 1]      </td> <td>[0.58620689655172409, 0.25, 0.96969696969696972, 0.64516 ...</td> <td>[1 0 0 1 0 0 0 0]    </td>\n",
       "        </tr>\n",
       "    </tbody>\n",
       "        <tr>\n",
       "            <td>Quies                           </td> <td>[0, 0, 0, 0]                  </td> <td>[0.41666666666666669, 0.48648648648648651, 0.36956521739 ...</td> <td>[0 0 0 1]            </td>\n",
       "        </tr>\n",
       "    </tbody>\n",
       "        <tr>\n",
       "            <td>Sub-Mare                        </td> <td>[0, 0, 1, 1, 1, 0, 0, 0, 0]   </td> <td>[0.75757575757575757, 0.88235294117647056, 0.60526315789 ...</td> <td>[0 0 1 1 1 0 0 0 0]  </td>\n",
       "        </tr>\n",
       "    </tbody>\n",
       "        <tr>\n",
       "            <td>A Pact                          </td> <td>[1, 1, 0, 0, 0, 0, 0, 0, 0]   </td> <td>[1.1111111111111112, 0.61290322580645162, 1.166666666666 ...</td> <td>[1 1 0 0 0 0 0 0 0]  </td>\n",
       "        </tr>\n",
       "    </tbody>\n",
       "        <tr>\n",
       "            <td>In A Station of the Metro       </td> <td>[1, 1]                        </td> <td>[0.59523809523809523, 1.4444444444444444]                   </td> <td>[1 0]                </td>\n",
       "        </tr>\n",
       "    </tbody>\n",
       "        <tr>\n",
       "            <td>Causa                           </td> <td>[0, 0, 0, 0]                  </td> <td>[0.74285714285714288, 0.29999999999999999, 0.71999999999 ...</td> <td>[1 0 1 1]            </td>\n",
       "        </tr>\n",
       "    </tbody>\n",
       "        <tr>\n",
       "            <td>Albatre                         </td> <td>[0, 0, 0, 0, 0, 0, 0, 0, 0]   </td> <td>[0.97959183673469385, 1.0, 0.54166666666666663, 0.769230 ...</td> <td>[1 1 0 1 0 0 1 1 0]  </td>\n",
       "        </tr>\n",
       "    </tbody>\n",
       "        <tr>\n",
       "            <td>Salutation                      </td> <td>[1, 1, 1, 1, 1, 0, 0, 0, 0, 0]</td> <td>[0.2857142857142857, 0.0, 0.88372093023255816, 0.5405405 ...</td> <td>[1 1 1 1 1 0 0 0 0 0]</td>\n",
       "        </tr>\n",
       "    </tbody>\n",
       "        <tr>\n",
       "            <td>The Bath Tub                    </td> <td>[0, 0, 0, 0]                  </td> <td>[0.97499999999999998, 0.90697674418604646, 0.40816326530 ...</td> <td>[1 1 0 0]            </td>\n",
       "        </tr>\n",
       "    </tbody>\n",
       "        <tr>\n",
       "            <td>Society                         </td> <td>[0, 0, 0, 0]                  </td> <td>[0.87096774193548387, 0.28205128205128205, 0.61111111111 ...</td> <td>[0 1 0 0]            </td>\n",
       "        </tr>\n",
       "    </tbody>\n",
       "        <tr>\n",
       "            <td>The Encounter                   </td> <td>[1, 1, 0, 1, 1]               </td> <td>[0.33333333333333331, 0.90000000000000002, 1.14285714285 ...</td> <td>[0 0 1 0 0]          </td>\n",
       "        </tr>\n",
       "    </tbody>\n",
       "        <tr>\n",
       "            <td>Ts'ai Chi'h                     </td> <td>[0, 0, 0]                     </td> <td>[0.87096774193548387, 0.0, 0.77419354838709675]             </td> <td>[0 1 0]              </td>\n",
       "        </tr>\n",
       "    </tbody>\n",
       "        <tr>\n",
       "            <td>Gentildonna                     </td> <td>[0, 0, 1, 1, 0]               </td> <td>[1.0, 0.2857142857142857, 0.59090909090909094, 0.4772727 ...</td> <td>[0 0 1 1 0]          </td>\n",
       "        </tr>\n",
       "    </tbody>\n",
       "        <tr>\n",
       "            <td>April                           </td> <td>[0, 0, 0, 1, 1, 0]            </td> <td>[0.0, 1.04, 1.0555555555555556, 0.73076923076923073, 0.3 ...</td> <td>[0 0 0 1 1 0]        </td>\n",
       "        </tr>\n",
       "    </tbody>\n",
       "</table>"
      ],
      "text/plain": [
       "<IPython.core.display.HTML object>"
      ]
     },
     "metadata": {},
     "output_type": "display_data"
    }
   ],
   "source": [
    "output_tb.show()"
   ]
  },
  {
   "cell_type": "markdown",
   "metadata": {},
   "source": [
    "***Note that the removal of \"-\" w/o adding a space affected poems like \n",
    "\"Alba\"***"
   ]
  },
  {
   "cell_type": "markdown",
   "metadata": {},
   "source": [
    "***Below cells deal with advanced visualization packages:***"
   ]
  },
  {
   "cell_type": "code",
   "execution_count": 347,
   "metadata": {
    "collapsed": false
   },
   "outputs": [],
   "source": [
    "#!pip install pydot\n",
    "#error described here: http://stackoverflow.com/questions/17886647/cant-install-via-pip-because-of-egg-info-error\n",
    "#file from answer post: https://bitbucket.org/pypa/setuptools/raw/bootstrap/ez_setup.py"
   ]
  },
  {
   "cell_type": "code",
   "execution_count": 348,
   "metadata": {
    "collapsed": false
   },
   "outputs": [],
   "source": [
    "#!pip install --upgrade setuptools"
   ]
  },
  {
   "cell_type": "markdown",
   "metadata": {},
   "source": [
    "***Write your own bibliography-formatting function because that would be cute***"
   ]
  }
 ],
 "metadata": {
  "kernelspec": {
   "display_name": "Python 3",
   "language": "python",
   "name": "python3"
  },
  "language_info": {
   "codemirror_mode": {
    "name": "ipython",
    "version": 3
   },
   "file_extension": ".py",
   "mimetype": "text/x-python",
   "name": "python",
   "nbconvert_exporter": "python",
   "pygments_lexer": "ipython3",
   "version": "3.5.0"
  }
 },
 "nbformat": 4,
 "nbformat_minor": 0
}
