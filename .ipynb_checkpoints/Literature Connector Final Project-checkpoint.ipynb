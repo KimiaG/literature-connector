{
 "cells": [
  {
   "cell_type": "markdown",
   "metadata": {
    "collapsed": false
   },
   "source": [
    "## Text Processing\n",
    "<li>Extract short lyrics</li>\n",
    "\n",
    "## Formal Structure\n",
    "<li>CMU Pronouncing Dictionary</li>\n",
    "<li>Assonance Definition</li>\n",
    "\n",
    "## Concreteness/Abstractness\n",
    "<li>Harvard General Inquirer</li>\n",
    "<li>Normalization by line</li>\n",
    "\n",
    "## Classification"
   ]
  },
  {
   "cell_type": "markdown",
   "metadata": {},
   "source": [
    "## Preparation"
   ]
  },
  {
   "cell_type": "code",
   "execution_count": 219,
   "metadata": {
    "collapsed": false
   },
   "outputs": [
    {
     "name": "stdout",
     "output_type": "stream",
     "text": [
      "Populating the interactive namespace from numpy and matplotlib\n"
     ]
    },
    {
     "name": "stderr",
     "output_type": "stream",
     "text": [
      "WARNING: pylab import has clobbered these variables: ['DateFormatter', 'short', 'test', 'percentile', 'Circle', 'Formatter']\n",
      "`%matplotlib` prevents importing * from pylab and numpy\n"
     ]
    }
   ],
   "source": [
    "%pylab inline\n",
    "import numpy as np\n",
    "from datascience import *\n",
    "import pandas as pd\n",
    "import string\n",
    "import nltk\n",
    "from nltk.corpus import cmudict"
   ]
  },
  {
   "cell_type": "markdown",
   "metadata": {},
   "source": [
    "# Formatting"
   ]
  },
  {
   "cell_type": "code",
   "execution_count": 86,
   "metadata": {
    "collapsed": false
   },
   "outputs": [],
   "source": [
    "with open('pound_poems.txt') as file_in:\n",
    "    collection = file_in.read()\n",
    "collection_list = collection.split('\\n'*5)"
   ]
  },
  {
   "cell_type": "code",
   "execution_count": 87,
   "metadata": {
    "collapsed": true
   },
   "outputs": [],
   "source": [
    "#Constants \n",
    "invalid_input = 'nan'\n",
    "max_length = 10"
   ]
  },
  {
   "cell_type": "code",
   "execution_count": 88,
   "metadata": {
    "collapsed": false
   },
   "outputs": [],
   "source": [
    "#Create a table with columns \"Poem Title\", \"Poem Text\", and poem length in lines\n",
    "titles = []\n",
    "lines = []\n",
    "poem_length = []\n",
    "for poem in collection_list:\n",
    "    line_list = poem.split('\\n')\n",
    "    titles.append(line_list.pop(0))\n",
    "    lines.append(line_list)\n",
    "    poem_length.append(len(line_list))"
   ]
  },
  {
   "cell_type": "code",
   "execution_count": 89,
   "metadata": {
    "collapsed": false
   },
   "outputs": [],
   "source": [
    "raw_poem_tb = Table().with_columns([\n",
    "        'Title', titles,\n",
    "        'Text', lines,\n",
    "        'Number of Lines', poem_length])"
   ]
  },
  {
   "cell_type": "code",
   "execution_count": 90,
   "metadata": {
    "collapsed": false
   },
   "outputs": [
    {
     "data": {
      "text/html": [
       "<table border=\"1\" class=\"dataframe\">\n",
       "    <thead>\n",
       "        <tr>\n",
       "            <th>Title</th> <th>Text</th> <th>Number of Lines</th>\n",
       "        </tr>\n",
       "    </thead>\n",
       "    <tbody>\n",
       "        <tr>\n",
       "            <td>A Girl                             </td> <td>['The tree has entered my hands,', 'The sap has ascended ...</td> <td>10             </td>\n",
       "        </tr>\n",
       "    </tbody>\n",
       "        <tr>\n",
       "            <td>A Pact                             </td> <td>['I make a pact with you, Walt Whitman -', 'I have detes ...</td> <td>9              </td>\n",
       "        </tr>\n",
       "    </tbody>\n",
       "        <tr>\n",
       "            <td>A Virginal                         </td> <td>['No, no! Go from me. I have left her lately.', 'I will  ...</td> <td>14             </td>\n",
       "        </tr>\n",
       "    </tbody>\n",
       "        <tr>\n",
       "            <td>In A Station of the Metro          </td> <td>['The apparition of these faces in the crowd:', 'Petals  ...</td> <td>2              </td>\n",
       "        </tr>\n",
       "    </tbody>\n",
       "        <tr>\n",
       "            <td>Middle Aged                        </td> <td>[\"'Tis but a vague, invarious delight.\", 'As gold that r ...</td> <td>23             </td>\n",
       "        </tr>\n",
       "    </tbody>\n",
       "        <tr>\n",
       "            <td>To Whistper, American              </td> <td>['You also, our first great,', 'Had tried all ways;', 'T ...</td> <td>19             </td>\n",
       "        </tr>\n",
       "    </tbody>\n",
       "        <tr>\n",
       "            <td>Envoi                              </td> <td>['Go, dumb-born book,', 'Tell her that sang me once that ...</td> <td>26             </td>\n",
       "        </tr>\n",
       "    </tbody>\n",
       "        <tr>\n",
       "            <td>Portrait d'une Femme               </td> <td>['Your mind and you are our Sargasso Sea,', 'London has  ...</td> <td>30             </td>\n",
       "        </tr>\n",
       "    </tbody>\n",
       "        <tr>\n",
       "            <td>The River-Merchant's Wife: A Letter</td> <td>['While my hair was still cut straight across my forehea ...</td> <td>30             </td>\n",
       "        </tr>\n",
       "    </tbody>\n",
       "        <tr>\n",
       "            <td>Alba                               </td> <td>['As cool as the pale wet leaves ', 'of lily-of-the-vall ...</td> <td>3              </td>\n",
       "        </tr>\n",
       "    </tbody>\n",
       "</table>\n",
       "<p>... (48 rows omitted)</p"
      ],
      "text/plain": [
       "Title                               | Text                                                         | Number of Lines\n",
       "A Girl                              | ['The tree has entered my hands,', 'The sap has ascended ... | 10\n",
       "A Pact                              | ['I make a pact with you, Walt Whitman -', 'I have detes ... | 9\n",
       "A Virginal                          | ['No, no! Go from me. I have left her lately.', 'I will  ... | 14\n",
       "In A Station of the Metro           | ['The apparition of these faces in the crowd:', 'Petals  ... | 2\n",
       "Middle Aged                         | [\"'Tis but a vague, invarious delight.\", 'As gold that r ... | 23\n",
       "To Whistper, American               | ['You also, our first great,', 'Had tried all ways;', 'T ... | 19\n",
       "Envoi                               | ['Go, dumb-born book,', 'Tell her that sang me once that ... | 26\n",
       "Portrait d'une Femme                | ['Your mind and you are our Sargasso Sea,', 'London has  ... | 30\n",
       "The River-Merchant's Wife: A Letter | ['While my hair was still cut straight across my forehea ... | 30\n",
       "Alba                                | ['As cool as the pale wet leaves ', 'of lily-of-the-vall ... | 3\n",
       "... (48 rows omitted)"
      ]
     },
     "execution_count": 90,
     "metadata": {},
     "output_type": "execute_result"
    }
   ],
   "source": [
    "#Delete\n",
    "raw_poem_tb"
   ]
  },
  {
   "cell_type": "code",
   "execution_count": 91,
   "metadata": {
    "collapsed": false
   },
   "outputs": [],
   "source": [
    "reception_mask = (raw_poem_tb['Number of Lines']<=max_length)\n",
    "short_lyric_tb = raw_poem_tb.where(reception_mask)"
   ]
  },
  {
   "cell_type": "code",
   "execution_count": 92,
   "metadata": {
    "collapsed": true
   },
   "outputs": [],
   "source": [
    "short_lyric_titles = short_lyric_tb['Title']\n",
    "text_columns = [[], [], [], [], [], [], [], [], [], []]\n",
    "for _poem in short_lyric_tb['Text']:\n",
    "    for x in range(0, 10):\n",
    "        if x < len(_poem):\n",
    "            text_columns[x].append(_poem[x])\n",
    "        else:\n",
    "            text_columns[x].append(invalid_input)"
   ]
  },
  {
   "cell_type": "code",
   "execution_count": 93,
   "metadata": {
    "collapsed": false
   },
   "outputs": [],
   "source": [
    "line_tb = Table(short_lyric_titles)\n",
    "line_tb = line_tb.with_rows(text_columns)"
   ]
  },
  {
   "cell_type": "code",
   "execution_count": 94,
   "metadata": {
    "collapsed": false
   },
   "outputs": [
    {
     "data": {
      "text/html": [
       "<table border=\"1\" class=\"dataframe\">\n",
       "    <thead>\n",
       "        <tr>\n",
       "            <th>A Girl</th> <th>A Pact</th> <th>In A Station of the Metro</th> <th>Alba</th> <th>An Immorality</th> <th>And The Days Are Not Full Enough</th> <th>Fan-Piece, For Her Imperial Lord</th> <th>Grace Before Song</th> <th>Ione, Dead the Long Year</th> <th>Ité</th> <th>L'Art</th> <th>Meditatio</th> <th>Notes for Canto CXX</th> <th>Quies</th> <th>Salutation</th> <th>Statement of Being</th> <th>Sub-Mare</th> <th>Taking Leave of a Friend</th> <th>Tame Cat</th> <th>The Bath-Tub</th> <th>The Encounter</th> <th>The Seeing Eye</th> <th>Ts'ai Chi'h</th>\n",
       "        </tr>\n",
       "    </thead>\n",
       "    <tbody>\n",
       "        <tr>\n",
       "            <td>The tree has entered my hands,         </td> <td>I make a pact with you, Walt Whitman -</td> <td>The apparition of these faces in the crowd:</td> <td>As cool as the pale wet leaves </td> <td>Sing we for love and idleness,      </td> <td>And the days are not full enough    </td> <td>O fan of white silk,              </td> <td>Lord God of heaven that with mercy dight                </td> <td>Empty are the ways,                </td> <td>Go, my songs, seek your praise from the young  </td> <td>Green arsenic smeared on an egg-white cloth,      </td> <td>When I carefully consider the curious habits of dogs</td> <td>I have tried to write Paradise </td> <td>This is another of our ancient loves.          </td> <td>O generation of the thoroughly smug         </td> <td>I am a grave poetic hen        </td> <td>It is, and is not, I am sane enough,                </td> <td>Blue mountains to the north of the walls,         </td> <td>It rests me to be among beautiful women      </td> <td>As a bathtub lined with white porcelain,               </td> <td>All the while they were talking the new morality</td> <td>The small dogs look at the big dogs;      </td> <td>The petals fall in the fountain,</td>\n",
       "        </tr>\n",
       "    </tbody>\n",
       "        <tr>\n",
       "            <td>The sap has ascended my arms,          </td> <td>I have detested you long enough.      </td> <td>Petals on a wet, black bough.              </td> <td>of lily-of-the-valley          </td> <td>Naught else is worth the having.    </td> <td>And the nights are not full enough  </td> <td>clear as frost on the grass-blade,</td> <td>Th'alternate prayer wheel of the night and light        </td> <td>Empty are the ways of this land    </td> <td>and from the intolerant,                       </td> <td>Crushed strawberries! Come, let us feast our eyes.</td> <td>I am compelled to conclude                          </td> <td>Do not move                    </td> <td>Pass and be silent, Rullus, for the day        </td> <td>and thoroughly uncomfortable,               </td> <td>That lays poetic eggs          </td> <td>Since you have come this place has hovered round me,</td> <td>White river winding about them;                   </td> <td>Why should one always lie about such matters?</td> <td>When the hot water gives out or goes tepid,            </td> <td>Her eyes explored me.                           </td> <td>They observe unwieldy dimensions          </td> <td>the orange-coloured rose-leaves,</td>\n",
       "        </tr>\n",
       "    </tbody>\n",
       "        <tr>\n",
       "            <td>The tree has grown in my breast -      </td> <td>I come to you as a grown child        </td> <td>nan                                        </td> <td>She lay beside me in the dawn. </td> <td>Though I have been in many a land,  </td> <td>And life slips by like a field mouse</td> <td>You also are laid aside.          </td> <td>Eternal hath to thee, and in whose sight                </td> <td>And the flowers                    </td> <td>Move among the lovers of perfection alone.     </td> <td>nan                                               </td> <td>That man is the superior animal.                    </td> <td>Let the wind speak             </td> <td>Hath lacked a something since this lady passed;</td> <td>I have seen fishermen picnicking in the sun,</td> <td>And to enhance my temperament  </td> <td>This fabrication built of autumn roses,             </td> <td>Here we must make separation                      </td> <td>I repeat:                                    </td> <td>So is the slow cooling of our chivalrous passion,      </td> <td>And when I rose to go                           </td> <td>And curious imperfections of odor.        </td> <td>Their ochre clings to the stone.</td>\n",
       "        </tr>\n",
       "    </tbody>\n",
       "        <tr>\n",
       "            <td>Downward,                              </td> <td>Who has had a pig-headed father;      </td> <td>nan                                        </td> <td>nan                            </td> <td>There is naught else in living.     </td> <td>Not shaking the grass               </td> <td>nan                               </td> <td>Our days as rain drops in the sea surge fall,           </td> <td>Bend over with heavy heads.        </td> <td>Seek ever to stand in the hard Sophoclean light</td> <td>nan                                               </td> <td>When I consider the curious habits of man           </td> <td>that is paradise.              </td> <td>Hath lacked a something. 'Twas but marginal    </td> <td>I have seen them with untidy families,      </td> <td>A little quiet begs.           </td> <td>Then there's a goldish colour, different.           </td> <td>And go out through a thousand miles of dead grass.</td> <td>It rests me to converse with beautiful women </td> <td>O my much praised but-not-altogether-satisfactory lady.</td> <td>Her fingers were like the tissue                </td> <td>Here is the formal male group:            </td> <td>nan                             </td>\n",
       "        </tr>\n",
       "    </tbody>\n",
       "        <tr>\n",
       "            <td>The branches grow out of me, like arms.</td> <td>I am old enough now to make friends.  </td> <td>nan                                        </td> <td>nan                            </td> <td>And I would rather have my sweet,   </td> <td>nan                                 </td> <td>nan                               </td> <td>As bright white drops upon a leaden sea                 </td> <td>They bend in vain.                 </td> <td>And take you wounds from it gladly.            </td> <td>nan                                               </td> <td>I confess, my friend, I am puzzled.                 </td> <td>Let the Gods forgive what I    </td> <td>nan                                            </td> <td>I have seen their smiles full of teeth      </td> <td>We make the yolk philosophy,   </td> <td>And one gropes in these things as delicate          </td> <td>Mind like a floating wide cloud,                  </td> <td>Even though we talk nothing but nonsense,    </td> <td>nan                                                    </td> <td>Of a Japanese paper napkin.                     </td> <td>The young men look upon their seniors,    </td> <td>nan                             </td>\n",
       "        </tr>\n",
       "    </tbody>\n",
       "        <tr>\n",
       "            <td>Tree you are,                          </td> <td>It was you that broke the new wood,   </td> <td>nan                                        </td> <td>nan                            </td> <td>Though rose-leaves die of grieving, </td> <td>nan                                 </td> <td>nan                               </td> <td>Grant so my songs to this grey folk may be:             </td> <td>Empty are the ways of this land    </td> <td>nan                                            </td> <td>nan                                               </td> <td>nan                                                 </td> <td>have made                      </td> <td>nan                                            </td> <td>and heard ungainly laughter.                </td> <td>True beauty the albumen.       </td> <td>Algae reach up and out, beneath                     </td> <td>Sunset like the parting of old acquaintances      </td> <td>The purring of the invisible antennae        </td> <td>nan                                                    </td> <td>nan                                             </td> <td>They consider the elderly mind            </td> <td>nan                             </td>\n",
       "        </tr>\n",
       "    </tbody>\n",
       "        <tr>\n",
       "            <td>Moss you are,                          </td> <td>Now is a time for carving.            </td> <td>nan                                        </td> <td>nan                            </td> <td>Than do high deeds in Hungary       </td> <td>nan                                 </td> <td>nan                               </td> <td>As drops that dream and gleam and falling catch the sun </td> <td>Where Ione                         </td> <td>nan                                            </td> <td>nan                                               </td> <td>nan                                                 </td> <td>Let those I love try to forgive</td> <td>nan                                            </td> <td>And I am happier than you are,              </td> <td>And then gum on a shell of form</td> <td>Pale slow green surgings of the underwave,          </td> <td>Who bow over their clasped hands at a distance.   </td> <td>Is both stimulating and delightful.          </td> <td>nan                                                    </td> <td>nan                                             </td> <td>And observe its inexplicable correlations.</td> <td>nan                             </td>\n",
       "        </tr>\n",
       "    </tbody>\n",
       "        <tr>\n",
       "            <td>You are violets with wind above them.  </td> <td>We have one sap and one root -        </td> <td>nan                                        </td> <td>nan                            </td> <td>To pass all men's believing.        </td> <td>nan                                 </td> <td>nan                               </td> <td>Evan'scent mirrors every opal one                       </td> <td>Walked once, and now does not walk </td> <td>nan                                            </td> <td>nan                                               </td> <td>nan                                                 </td> <td>what I have made.              </td> <td>nan                                            </td> <td>And they were happier than I am;            </td> <td>To make the screed sound human.</td> <td>'Mid these things older than the names they have,   </td> <td>Our horses neigh to each others                   </td> <td>nan                                          </td> <td>nan                                                    </td> <td>nan                                             </td> <td>Said Tsin-Tsu:                            </td> <td>nan                             </td>\n",
       "        </tr>\n",
       "    </tbody>\n",
       "        <tr>\n",
       "            <td>A child - so high - you are,           </td> <td>Let there be commerce between us.     </td> <td>nan                                        </td> <td>nan                            </td> <td>nan                                 </td> <td>nan                                 </td> <td>nan                               </td> <td>Of such his splendor as their compass is,               </td> <td>But seems like a person just gone. </td> <td>nan                                            </td> <td>nan                                               </td> <td>nan                                                 </td> <td>nan                            </td> <td>nan                                            </td> <td>And the fish swim in the lake               </td> <td>nan                            </td> <td>These things that are familiears of the god.        </td> <td>as we are departing.                              </td> <td>nan                                          </td> <td>nan                                                    </td> <td>nan                                             </td> <td>It is only in small dogs and the young    </td> <td>nan                             </td>\n",
       "        </tr>\n",
       "    </tbody>\n",
       "        <tr>\n",
       "            <td>And all this is folly to the world.    </td> <td>nan                                   </td> <td>nan                                        </td> <td>nan                            </td> <td>nan                                 </td> <td>nan                                 </td> <td>nan                               </td> <td>So, bold My Songs, seek ye such death as this.          </td> <td>nan                                </td> <td>nan                                            </td> <td>nan                                               </td> <td>nan                                                 </td> <td>nan                            </td> <td>nan                                            </td> <td>and do not even own clothing.               </td> <td>nan                            </td> <td>nan                                                 </td> <td>nan                                               </td> <td>nan                                          </td> <td>nan                                                    </td> <td>nan                                             </td> <td>That we find minute observation           </td> <td>nan                             </td>\n",
       "        </tr>\n",
       "    </tbody>\n",
       "</table>"
      ],
      "text/plain": [
       "A Girl                                  | A Pact                                 | In A Station of the Metro                   | Alba                            | An Immorality                        | And The Days Are Not Full Enough     | Fan-Piece, For Her Imperial Lord   | Grace Before Song                                        | Ione, Dead the Long Year            | Ité                                             | L'Art                                              | Meditatio                                            | Notes for Canto CXX             | Quies                                           | Salutation                                   | Statement of Being              | Sub-Mare                                             | Taking Leave of a Friend                           | Tame Cat                                      | The Bath-Tub                                            | The Encounter                                    | The Seeing Eye                             | Ts'ai Chi'h\n",
       "The tree has entered my hands,          | I make a pact with you, Walt Whitman - | The apparition of these faces in the crowd: | As cool as the pale wet leaves  | Sing we for love and idleness,       | And the days are not full enough     | O fan of white silk,               | Lord God of heaven that with mercy dight                 | Empty are the ways,                 | Go, my songs, seek your praise from the young   | Green arsenic smeared on an egg-white cloth,       | When I carefully consider the curious habits of dogs | I have tried to write Paradise  | This is another of our ancient loves.           | O generation of the thoroughly smug          | I am a grave poetic hen         | It is, and is not, I am sane enough,                 | Blue mountains to the north of the walls,          | It rests me to be among beautiful women       | As a bathtub lined with white porcelain,                | All the while they were talking the new morality | The small dogs look at the big dogs;       | The petals fall in the fountain,\n",
       "The sap has ascended my arms,           | I have detested you long enough.       | Petals on a wet, black bough.               | of lily-of-the-valley           | Naught else is worth the having.     | And the nights are not full enough   | clear as frost on the grass-blade, | Th'alternate prayer wheel of the night and light         | Empty are the ways of this land     | and from the intolerant,                        | Crushed strawberries! Come, let us feast our eyes. | I am compelled to conclude                           | Do not move                     | Pass and be silent, Rullus, for the day         | and thoroughly uncomfortable,                | That lays poetic eggs           | Since you have come this place has hovered round me, | White river winding about them;                    | Why should one always lie about such matters? | When the hot water gives out or goes tepid,             | Her eyes explored me.                            | They observe unwieldy dimensions           | the orange-coloured rose-leaves,\n",
       "The tree has grown in my breast -       | I come to you as a grown child         | nan                                         | She lay beside me in the dawn.  | Though I have been in many a land,   | And life slips by like a field mouse | You also are laid aside.           | Eternal hath to thee, and in whose sight                 | And the flowers                     | Move among the lovers of perfection alone.      | nan                                                | That man is the superior animal.                     | Let the wind speak              | Hath lacked a something since this lady passed; | I have seen fishermen picnicking in the sun, | And to enhance my temperament   | This fabrication built of autumn roses,              | Here we must make separation                       | I repeat:                                     | So is the slow cooling of our chivalrous passion,       | And when I rose to go                            | And curious imperfections of odor.         | Their ochre clings to the stone.\n",
       "Downward,                               | Who has had a pig-headed father;       | nan                                         | nan                             | There is naught else in living.      | Not shaking the grass                | nan                                | Our days as rain drops in the sea surge fall,            | Bend over with heavy heads.         | Seek ever to stand in the hard Sophoclean light | nan                                                | When I consider the curious habits of man            | that is paradise.               | Hath lacked a something. 'Twas but marginal     | I have seen them with untidy families,       | A little quiet begs.            | Then there's a goldish colour, different.            | And go out through a thousand miles of dead grass. | It rests me to converse with beautiful women  | O my much praised but-not-altogether-satisfactory lady. | Her fingers were like the tissue                 | Here is the formal male group:             | nan\n",
       "The branches grow out of me, like arms. | I am old enough now to make friends.   | nan                                         | nan                             | And I would rather have my sweet,    | nan                                  | nan                                | As bright white drops upon a leaden sea                  | They bend in vain.                  | And take you wounds from it gladly.             | nan                                                | I confess, my friend, I am puzzled.                  | Let the Gods forgive what I     | nan                                             | I have seen their smiles full of teeth       | We make the yolk philosophy,    | And one gropes in these things as delicate           | Mind like a floating wide cloud,                   | Even though we talk nothing but nonsense,     | nan                                                     | Of a Japanese paper napkin.                      | The young men look upon their seniors,     | nan\n",
       "Tree you are,                           | It was you that broke the new wood,    | nan                                         | nan                             | Though rose-leaves die of grieving,  | nan                                  | nan                                | Grant so my songs to this grey folk may be:              | Empty are the ways of this land     | nan                                             | nan                                                | nan                                                  | have made                       | nan                                             | and heard ungainly laughter.                 | True beauty the albumen.        | Algae reach up and out, beneath                      | Sunset like the parting of old acquaintances       | The purring of the invisible antennae         | nan                                                     | nan                                              | They consider the elderly mind             | nan\n",
       "Moss you are,                           | Now is a time for carving.             | nan                                         | nan                             | Than do high deeds in Hungary        | nan                                  | nan                                | As drops that dream and gleam and falling catch the sun  | Where Ione                          | nan                                             | nan                                                | nan                                                  | Let those I love try to forgive | nan                                             | And I am happier than you are,               | And then gum on a shell of form | Pale slow green surgings of the underwave,           | Who bow over their clasped hands at a distance.    | Is both stimulating and delightful.           | nan                                                     | nan                                              | And observe its inexplicable correlations. | nan\n",
       "You are violets with wind above them.   | We have one sap and one root -         | nan                                         | nan                             | To pass all men's believing.         | nan                                  | nan                                | Evan'scent mirrors every opal one                        | Walked once, and now does not walk  | nan                                             | nan                                                | nan                                                  | what I have made.               | nan                                             | And they were happier than I am;             | To make the screed sound human. | 'Mid these things older than the names they have,    | Our horses neigh to each others                    | nan                                           | nan                                                     | nan                                              | Said Tsin-Tsu:                             | nan\n",
       "A child - so high - you are,            | Let there be commerce between us.      | nan                                         | nan                             | nan                                  | nan                                  | nan                                | Of such his splendor as their compass is,                | But seems like a person just gone.  | nan                                             | nan                                                | nan                                                  | nan                             | nan                                             | And the fish swim in the lake                | nan                             | These things that are familiears of the god.         | as we are departing.                               | nan                                           | nan                                                     | nan                                              | It is only in small dogs and the young     | nan\n",
       "And all this is folly to the world.     | nan                                    | nan                                         | nan                             | nan                                  | nan                                  | nan                                | So, bold My Songs, seek ye such death as this.           | nan                                 | nan                                             | nan                                                | nan                                                  | nan                             | nan                                             | and do not even own clothing.                | nan                             | nan                                                  | nan                                                | nan                                           | nan                                                     | nan                                              | That we find minute observation            | nan"
      ]
     },
     "execution_count": 94,
     "metadata": {},
     "output_type": "execute_result"
    }
   ],
   "source": [
    "#Delete\n",
    "line_tb"
   ]
  },
  {
   "cell_type": "markdown",
   "metadata": {},
   "source": [
    "# Analysis"
   ]
  },
  {
   "cell_type": "code",
   "execution_count": 135,
   "metadata": {
    "collapsed": true
   },
   "outputs": [],
   "source": [
    "output_tb = Table().with_column('Title', short_lyric_titles)"
   ]
  },
  {
   "cell_type": "code",
   "execution_count": 136,
   "metadata": {
    "collapsed": true
   },
   "outputs": [],
   "source": [
    "def cleaned_last_word(line):\n",
    "    s = line\n",
    "    s = \"\".join(char for char in s if char not in string.punctuation)\n",
    "    s = s.replace('-', ' ')\n",
    "    final_word = s.rsplit(None, 1)[-1]\n",
    "    return final_word"
   ]
  },
  {
   "cell_type": "code",
   "execution_count": 137,
   "metadata": {
    "collapsed": true
   },
   "outputs": [],
   "source": [
    "def get_last_words(poem):\n",
    "    return [cleaned_last_word(line) for line in poem if line != invalid_input]"
   ]
  },
  {
   "cell_type": "markdown",
   "metadata": {},
   "source": [
    "## Measuring Formal Structure"
   ]
  },
  {
   "cell_type": "code",
   "execution_count": 138,
   "metadata": {
    "collapsed": true
   },
   "outputs": [],
   "source": [
    "words = cmudict.words()      # list of words for which we have pronunciations\n",
    "dictionary = cmudict.dict()  # keys are words, values are lists of pronunciations for each word\n",
    "entries = cmudict.entries()  # list of tuples, where first entry is word, second is pronunciation"
   ]
  },
  {
   "cell_type": "code",
   "execution_count": 139,
   "metadata": {
    "collapsed": true
   },
   "outputs": [],
   "source": [
    "#Formal structure is measured by assonance of couplets in a poem and is defined as follows\n",
    "def is_assonant(word1, word2):\n",
    "    if dictionary.get(word1) == None or dictionary.get(word2) == None:\n",
    "        return False\n",
    "    sounds1 = [char for char in dictionary.get(word1)[0] if len(char) > 2]\n",
    "    sounds2 = [char for char in dictionary.get(word2)[0] if len(char) > 2]\n",
    "    for char1 in sounds1:\n",
    "        for char2 in sounds2:\n",
    "            if (char1 == char2):\n",
    "                return True\n",
    "    return False"
   ]
  },
  {
   "cell_type": "code",
   "execution_count": 140,
   "metadata": {
    "collapsed": true
   },
   "outputs": [],
   "source": [
    "#Assigns value of 1 to rhyming lines and value of 0 to non-rhyming lines\n",
    "def apply_rhyming_metric(poem):\n",
    "    numeric_translation = []\n",
    "    for i in range(len(poem)):\n",
    "        numeric_translation.append(0)\n",
    "    for i in range(len(poem) - 1):\n",
    "        if is_assonant(poem[i], poem[i+1]):\n",
    "            if numeric_translation[i] < 1:\n",
    "                numeric_translation[i] += 1\n",
    "            if numeric_translation[i+1] < 1:\n",
    "                numeric_translation[i+1] += 1\n",
    "    return numeric_translation"
   ]
  },
  {
   "cell_type": "code",
   "execution_count": 141,
   "metadata": {
    "collapsed": false
   },
   "outputs": [
    {
     "data": {
      "text/plain": [
       "['The tree has entered my hands,',\n",
       " 'The sap has ascended my arms,',\n",
       " 'The tree has grown in my breast -',\n",
       " 'Downward,',\n",
       " 'The branches grow out of me, like arms.',\n",
       " 'Tree you are,',\n",
       " 'Moss you are,',\n",
       " 'You are violets with wind above them.',\n",
       " 'A child - so high - you are,',\n",
       " 'And all this is folly to the world.']"
      ]
     },
     "execution_count": 141,
     "metadata": {},
     "output_type": "execute_result"
    }
   ],
   "source": [
    "short_lyric_tb['Text'][0]"
   ]
  },
  {
   "cell_type": "code",
   "execution_count": 142,
   "metadata": {
    "collapsed": true
   },
   "outputs": [],
   "source": [
    "short_lyrics = short_lyric_tb['Text']\n",
    "formal_structure = [apply_rhyming_metric(get_last_words(poem)) for poem in short_lyrics]"
   ]
  },
  {
   "cell_type": "code",
   "execution_count": 144,
   "metadata": {
    "collapsed": false
   },
   "outputs": [],
   "source": [
    "output_tb = output_tb.with_column('Form', formal_structure)"
   ]
  },
  {
   "cell_type": "markdown",
   "metadata": {},
   "source": [
    "## Measuring Abstractness"
   ]
  },
  {
   "cell_type": "code",
   "execution_count": 42,
   "metadata": {
    "collapsed": false
   },
   "outputs": [
    {
     "name": "stderr",
     "output_type": "stream",
     "text": [
      "/Users/kimia/anaconda/lib/python3.5/site-packages/IPython/core/interactiveshell.py:2825: DtypeWarning: Columns (63,108,109,110,176) have mixed types. Specify dtype option on import or set low_memory=False.\n",
      "  if self.run_code(code, result):\n"
     ]
    }
   ],
   "source": [
    "inquirer = Table.read_table('inquirerbasic.csv')"
   ]
  },
  {
   "cell_type": "code",
   "execution_count": 202,
   "metadata": {
    "collapsed": false
   },
   "outputs": [],
   "source": [
    "concrete_tb = inquirer.select(['Entry', 'Object', 'ABS'])"
   ]
  },
  {
   "cell_type": "code",
   "execution_count": 203,
   "metadata": {
    "collapsed": false
   },
   "outputs": [],
   "source": [
    "def is_abstract_or_concrete(word):\n",
    "    word_attributes = concrete_tb.where('Entry', word.upper())\n",
    "    if word_attributes.num_rows == 0:\n",
    "        return 0\n",
    "    elif word_attributes.column('Object')[0] == 'Object':\n",
    "        return -1\n",
    "    elif word_attributes.column('ABS')[0] == 'ABS':\n",
    "        return 1\n",
    "    else:\n",
    "        return 0"
   ]
  },
  {
   "cell_type": "code",
   "execution_count": 204,
   "metadata": {
    "collapsed": true
   },
   "outputs": [],
   "source": [
    "def abstract_metric(line):\n",
    "    s = line\n",
    "    s = \"\".join(char for char in s if char not in string.punctuation)\n",
    "    s = s.replace('-', ' ')\n",
    "    s = s.split(' ')\n",
    "    return sum([is_abstract_or_concrete(word) for word in s]) / len(s)"
   ]
  },
  {
   "cell_type": "code",
   "execution_count": 205,
   "metadata": {
    "collapsed": true
   },
   "outputs": [],
   "source": [
    "def apply_abstract_metric(poem):\n",
    "    return [abstract_metric(_line) for _line in poem]"
   ]
  },
  {
   "cell_type": "code",
   "execution_count": 206,
   "metadata": {
    "collapsed": true
   },
   "outputs": [],
   "source": [
    "percent_abstract = [apply_abstract_metric(poem) for poem in short_lyrics]"
   ]
  },
  {
   "cell_type": "code",
   "execution_count": 209,
   "metadata": {
    "collapsed": false
   },
   "outputs": [],
   "source": [
    "output_tb = output_tb.with_column('Concrete/Abstract', percent_abstract)"
   ]
  },
  {
   "cell_type": "markdown",
   "metadata": {},
   "source": [
    "## Unsupervised Classification"
   ]
  },
  {
   "cell_type": "code",
   "execution_count": 218,
   "metadata": {
    "collapsed": false
   },
   "outputs": [],
   "source": [
    "import matplotlib.pyplot as plt\n",
    "from matplotlib import style\n",
    "style.use(\"ggplot\")\n",
    "from sklearn.cluster import KMeans"
   ]
  },
  {
   "cell_type": "code",
   "execution_count": 239,
   "metadata": {
    "collapsed": false
   },
   "outputs": [],
   "source": [
    "#Working with only one poem as an example\n",
    "sample_title = output_tb.column('Title')[20]\n",
    "sample_form = output_tb.column('Form')[20]\n",
    "sample_concreteness = output_tb.column('Concrete/Abstract')[20]"
   ]
  },
  {
   "cell_type": "markdown",
   "metadata": {},
   "source": [
    "**Example Classification Visualization**"
   ]
  },
  {
   "cell_type": "code",
   "execution_count": 240,
   "metadata": {
    "collapsed": false
   },
   "outputs": [
    {
     "data": {
      "image/png": "[encoded data removed]",
      "text/plain": [
       "<matplotlib.figure.Figure at 0x11bf69b38>"
      ]
     },
     "metadata": {},
     "output_type": "display_data"
    }
   ],
   "source": [
    "x = sample_form\n",
    "y = sample_concreteness\n",
    "\n",
    "plt.scatter(x,y)\n",
    "plt.show()"
   ]
  },
  {
   "cell_type": "code",
   "execution_count": 241,
   "metadata": {
    "collapsed": false
   },
   "outputs": [],
   "source": [
    "X = list(zip(sample_form, sample_concreteness))"
   ]
  },
  {
   "cell_type": "code",
   "execution_count": 242,
   "metadata": {
    "collapsed": false
   },
   "outputs": [
    {
     "name": "stdout",
     "output_type": "stream",
     "text": [
      "[[ 0.          0.02777778]\n",
      " [ 0.         -0.2       ]]\n",
      "[0 0 0 0 1]\n"
     ]
    }
   ],
   "source": [
    "kmeans = KMeans(n_clusters=2)\n",
    "kmeans.fit(X)\n",
    "\n",
    "centroids = kmeans.cluster_centers_\n",
    "labels = kmeans.labels_\n",
    "\n",
    "print(centroids)\n",
    "print(labels)"
   ]
  },
  {
   "cell_type": "code",
   "execution_count": 243,
   "metadata": {
    "collapsed": false
   },
   "outputs": [
    {
     "name": "stdout",
     "output_type": "stream",
     "text": [
      "coordinate: (0, 0.1111111111111111) label: 0\n",
      "coordinate: (0, 0.0) label: 0\n",
      "coordinate: (0, 0.0) label: 0\n",
      "coordinate: (0, 0.0) label: 0\n",
      "coordinate: (0, -0.20000000000000001) label: 1\n"
     ]
    },
    {
     "data": {
      "image/png": "[encoded data removed]",
      "text/plain": [
       "<matplotlib.figure.Figure at 0x11b99a160>"
      ]
     },
     "metadata": {},
     "output_type": "display_data"
    }
   ],
   "source": [
    "colors = [\"g.\",\"r.\"]\n",
    "\n",
    "for i in range(len(X)):\n",
    "    print(\"coordinate:\",X[i], \"label:\", labels[i])\n",
    "    plt.plot(X[i][0], X[i][1], colors[labels[i]], markersize = 10)\n",
    "\n",
    "\n",
    "plt.scatter(centroids[:, 0],centroids[:, 1], marker = \"x\", s=150, linewidths = 5, zorder = 10)\n",
    "\n",
    "plt.show()"
   ]
  },
  {
   "cell_type": "code",
   "execution_count": 244,
   "metadata": {
    "collapsed": false
   },
   "outputs": [],
   "source": [
    "#Classify each poem\n",
    "classification = []\n",
    "for i in range(output_tb.num_rows):\n",
    "    form = output_tb.column('Form')[i]\n",
    "    concrete = output_tb.column('Concrete/Abstract')[i]\n",
    "    X = list(zip(form, concrete))\n",
    "    kmeans.fit(X)\n",
    "    classification.append(kmeans.labels_)"
   ]
  },
  {
   "cell_type": "code",
   "execution_count": 245,
   "metadata": {
    "collapsed": false
   },
   "outputs": [],
   "source": [
    "output_tb = output_tb.with_column('Turn Form', classification)"
   ]
  },
  {
   "cell_type": "code",
   "execution_count": 246,
   "metadata": {
    "collapsed": false
   },
   "outputs": [
    {
     "data": {
      "text/html": [
       "<table border=\"1\" class=\"dataframe\">\n",
       "    <thead>\n",
       "        <tr>\n",
       "            <th>Title</th> <th>Form</th> <th>Concrete/Abstract</th> <th>Turn Form</th>\n",
       "        </tr>\n",
       "    </thead>\n",
       "    <tbody>\n",
       "        <tr>\n",
       "            <td>A Girl                          </td> <td>[0, 0, 0, 0, 1, 1, 1, 0, 0, 0]</td> <td>[-0.16666666666666666, 0.0, -0.125, 0.0, 0.0, -0.3333333 ...</td> <td>[0 0 0 0 1 1 1 0 0 0]</td>\n",
       "        </tr>\n",
       "    </tbody>\n",
       "        <tr>\n",
       "            <td>A Pact                          </td> <td>[0, 0, 0, 0, 0, 0, 0, 0, 0]   </td> <td>[0.0, 0.0, 0.0, 0.0, 0.0, 0.0, 0.0, 0.0, 0.0]               </td> <td>[0 0 0 0 0 0 0 0 0]  </td>\n",
       "        </tr>\n",
       "    </tbody>\n",
       "        <tr>\n",
       "            <td>In A Station of the Metro       </td> <td>[1, 1]                        </td> <td>[0.0, 0.0]                                                  </td> <td>[0 0]                </td>\n",
       "        </tr>\n",
       "    </tbody>\n",
       "        <tr>\n",
       "            <td>Alba                            </td> <td>[0, 0, 0]                     </td> <td>[0.0, 0.0, 0.0]                                             </td> <td>[0 0 0]              </td>\n",
       "        </tr>\n",
       "    </tbody>\n",
       "        <tr>\n",
       "            <td>An Immorality                   </td> <td>[0, 1, 1, 0, 1, 1, 0, 0]      </td> <td>[0.0, 0.0, 0.0, 0.0, 0.0, 0.0, 0.0, 0.0]                    </td> <td>[1 0 0 1 0 0 1 1]    </td>\n",
       "        </tr>\n",
       "    </tbody>\n",
       "        <tr>\n",
       "            <td>And The Days Are Not Full Enough</td> <td>[1, 1, 0, 0]                  </td> <td>[0.0, 0.0, 0.0, -0.25]                                      </td> <td>[0 0 1 1]            </td>\n",
       "        </tr>\n",
       "    </tbody>\n",
       "        <tr>\n",
       "            <td>Fan-Piece, For Her Imperial Lord</td> <td>[0, 0, 0]                     </td> <td>[-0.20000000000000001, 0.0, 0.0]                            </td> <td>[1 0 0]              </td>\n",
       "        </tr>\n",
       "    </tbody>\n",
       "        <tr>\n",
       "            <td>Grace Before Song               </td> <td>[0, 1, 1, 0, 1, 1, 1, 1, 1, 1]</td> <td>[0.125, 0.0, 0.0, 0.0, 0.0, 0.0, 0.0, 0.0, -0.1111111111 ...</td> <td>[1 0 0 1 0 0 0 0 0 0]</td>\n",
       "        </tr>\n",
       "    </tbody>\n",
       "        <tr>\n",
       "            <td>Ione, Dead the Long Year        </td> <td>[0, 0, 0, 0, 0, 0, 0, 1, 1]   </td> <td>[0.0, 0.0, 0.0, 0.0, 0.0, 0.0, 0.0, 0.0, 0.0]               </td> <td>[1 1 1 1 1 1 1 0 0]  </td>\n",
       "        </tr>\n",
       "    </tbody>\n",
       "        <tr>\n",
       "            <td>Ité                             </td> <td>[0, 1, 1, 0, 0]               </td> <td>[0.0, 0.0, 0.0, 0.0, 0.0]                                   </td> <td>[0 1 1 0 0]          </td>\n",
       "        </tr>\n",
       "    </tbody>\n",
       "        <tr>\n",
       "            <td>L'Art                           </td> <td>[0, 0]                        </td> <td>[-0.14285714285714285, 0.0]                                 </td> <td>[1 0]                </td>\n",
       "        </tr>\n",
       "    </tbody>\n",
       "        <tr>\n",
       "            <td>Meditatio                       </td> <td>[0, 1, 1, 1, 0]               </td> <td>[0.0, 0.0, 0.0, 0.0, 0.0]                                   </td> <td>[0 1 1 1 0]          </td>\n",
       "        </tr>\n",
       "    </tbody>\n",
       "        <tr>\n",
       "            <td>Notes for Canto CXX             </td> <td>[0, 0, 0, 0, 0, 0, 0, 0]      </td> <td>[0.0, 0.0, 0.0, 0.0, 0.0, 0.0, 0.0, 0.0]                    </td> <td>[0 0 0 0 0 0 0 0]    </td>\n",
       "        </tr>\n",
       "    </tbody>\n",
       "        <tr>\n",
       "            <td>Quies                           </td> <td>[0, 0, 0, 0]                  </td> <td>[0.0, 0.125, 0.0, 0.0]                                      </td> <td>[0 1 0 0]            </td>\n",
       "        </tr>\n",
       "    </tbody>\n",
       "        <tr>\n",
       "            <td>Salutation                      </td> <td>[1, 1, 1, 0, 0, 0, 0, 0, 0, 0]</td> <td>[0.0, 0.0, 0.0, 0.0, 0.0, 0.0, 0.0, 0.0, 0.0, 0.0]          </td> <td>[1 1 1 0 0 0 0 0 0 0]</td>\n",
       "        </tr>\n",
       "    </tbody>\n",
       "        <tr>\n",
       "            <td>Statement of Being              </td> <td>[1, 1, 1, 1, 0, 0, 0, 0]      </td> <td>[0.0, 0.0, 0.0, 0.0, 0.0, 0.25, 0.0, 0.0]                   </td> <td>[1 1 1 1 0 0 0 0]    </td>\n",
       "        </tr>\n",
       "    </tbody>\n",
       "        <tr>\n",
       "            <td>Sub-Mare                        </td> <td>[0, 0, 0, 1, 1, 0, 0, 0, 0]   </td> <td>[0.0, 0.0, 0.16666666666666666, 0.0, 0.0, 0.0, 0.0, 0.0, ...</td> <td>[0 0 0 1 1 0 0 0 0]  </td>\n",
       "        </tr>\n",
       "    </tbody>\n",
       "        <tr>\n",
       "            <td>Taking Leave of a Friend        </td> <td>[0, 0, 0, 0, 0, 1, 1, 0, 0]   </td> <td>[0.0, 0.0, 0.0, -0.10000000000000001, 0.0, 0.0, 0.111111 ...</td> <td>[0 0 0 0 0 1 1 0 0]  </td>\n",
       "        </tr>\n",
       "    </tbody>\n",
       "        <tr>\n",
       "            <td>Tame Cat                        </td> <td>[0, 0, 0, 0, 0, 0, 0]         </td> <td>[0.0, 0.0, 0.0, 0.0, 0.0, 0.0, 0.0]                         </td> <td>[0 0 0 0 0 0 0]      </td>\n",
       "        </tr>\n",
       "    </tbody>\n",
       "        <tr>\n",
       "            <td>The Bath-Tub                    </td> <td>[0, 0, 0, 0]                  </td> <td>[0.0, 0.0, 0.0, 0.0]                                        </td> <td>[0 0 0 0]            </td>\n",
       "        </tr>\n",
       "    </tbody>\n",
       "        <tr>\n",
       "            <td>The Encounter                   </td> <td>[0, 0, 0, 0, 0]               </td> <td>[0.1111111111111111, 0.0, 0.0, 0.0, -0.20000000000000001]   </td> <td>[0 0 0 0 1]          </td>\n",
       "        </tr>\n",
       "    </tbody>\n",
       "        <tr>\n",
       "            <td>The Seeing Eye                  </td> <td>[0, 0, 0, 0, 0, 0, 0, 0, 0, 0]</td> <td>[0.0, 0.0, 0.0, 0.0, 0.0, 0.0, 0.0, 0.0, 0.0, 0.20000000 ...</td> <td>[0 0 0 0 0 0 0 0 0 1]</td>\n",
       "        </tr>\n",
       "    </tbody>\n",
       "        <tr>\n",
       "            <td>Ts'ai Chi'h                     </td> <td>[0, 0, 0]                     </td> <td>[0.0, 0.0, 0.0]                                             </td> <td>[0 0 0]              </td>\n",
       "        </tr>\n",
       "    </tbody>\n",
       "</table>"
      ],
      "text/plain": [
       "<IPython.core.display.HTML object>"
      ]
     },
     "metadata": {},
     "output_type": "display_data"
    }
   ],
   "source": [
    "output_tb.show()"
   ]
  }
 ],
 "metadata": {
  "kernelspec": {
   "display_name": "Python 3",
   "language": "python",
   "name": "python3"
  },
  "language_info": {
   "codemirror_mode": {
    "name": "ipython",
    "version": 3
   },
   "file_extension": ".py",
   "mimetype": "text/x-python",
   "name": "python",
   "nbconvert_exporter": "python",
   "pygments_lexer": "ipython3",
   "version": "3.5.0"
  }
 },
 "nbformat": 4,
 "nbformat_minor": 0
}
