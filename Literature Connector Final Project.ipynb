{
 "cells": [
  {
   "cell_type": "code",
   "execution_count": 156,
   "metadata": {
    "collapsed": false
   },
   "outputs": [
    {
     "name": "stdout",
     "output_type": "stream",
     "text": [
      "Populating the interactive namespace from numpy and matplotlib\n"
     ]
    },
    {
     "name": "stderr",
     "output_type": "stream",
     "text": [
      "WARNING: pylab import has clobbered these variables: ['Formatter', 'DateFormatter', 'percentile', 'Circle']\n",
      "`%matplotlib` prevents importing * from pylab and numpy\n"
     ]
    }
   ],
   "source": [
    "%pylab inline\n",
    "import numpy as np\n",
    "from datascience import *\n",
    "import pandas as pd\n",
    "import string"
   ]
  },
  {
   "cell_type": "markdown",
   "metadata": {},
   "source": [
    "# Formatting"
   ]
  },
  {
   "cell_type": "code",
   "execution_count": 120,
   "metadata": {
    "collapsed": false
   },
   "outputs": [],
   "source": [
    "with open('pound_poems.txt') as file_in:\n",
    "    collection = file_in.read()\n",
    "collection_list = collection.split('\\n'*5)"
   ]
  },
  {
   "cell_type": "code",
   "execution_count": 124,
   "metadata": {
    "collapsed": true
   },
   "outputs": [
    {
     "data": {
      "text/plain": [
       "['A Girl\\nThe tree has entered my hands,\\nThe sap has ascended my arms,\\nThe tree has grown in my breast -\\nDownward,\\nThe branches grow out of me, like arms.\\nTree you are,\\nMoss you are,\\nYou are violets with wind above them.\\nA child - so high - you are,\\nAnd all this is folly to the world.',\n",
       " 'A Pact\\nI make a pact with you, Walt Whitman -\\nI have detested you long enough.\\nI come to you as a grown child\\nWho has had a pig-headed father;\\nI am old enough now to make friends.\\nIt was you that broke the new wood,\\nNow is a time for carving.\\nWe have one sap and one root -\\nLet there be commerce between us.',\n",
       " 'A Virginal\\nNo, no! Go from me. I have left her lately.\\nI will not spoil my sheath with lesser brightness,   \\nFor my surrounding air hath a new lightness;\\nSlight are her arms, yet they have bound me straitly   \\nAnd left me cloaked as with a gauze of æther;   \\nAs with sweet leaves; as with subtle clearness.   \\nOh, I have picked up magic in her nearness\\nTo sheathe me half in half the things that sheathe her.   \\nNo, no! Go from me. I have still the flavour,   \\nSoft as spring wind that’s come from birchen bowers.   \\nGreen come the shoots, aye April in the branches,\\nAs winter’s wound with her sleight hand she staunches,   \\nHath of the trees a likeness of the savour:\\nAs white their bark, so white this lady’s hours.',\n",
       " 'In A Station of the Metro\\nThe apparition of these faces in the crowd:\\nPetals on a wet, black bough.',\n",
       " \"Middle Aged\\n'Tis but a vague, invarious delight.\\nAs gold that rains about some buried king.\\nAs the fine flakes,\\nWhen tourists frolicking\\nStamp on his roof or in the glazing light\\nTry photographs, wolf down their ale and cakes\\nAnd start to inspect some further pyramid;\\nAs the fine dust, in the hid cell beneath\\nTheir transitory step and merriment,\\nDrifts through the air, and the sarcophagus\\nGains yet another crust\\nOf useless riches for the occupant,\\nSo I, the fires that lit once dreams\\nNow over and spent,\\nLie dead within four walls\\nAnd so now love\\nRains down and so enriches some stiff case,\\nAnd strews a mind with precious metaphors,\\nAnd so the space\\nOf my still consciousness\\nIs full of gilded snow,\\nThe which, no cat has eyes enough\\nTo see the brightness of.\",\n",
       " 'To Whistper, American\\nYou also, our first great,\\nHad tried all ways;\\nTested and pried and worked in many fashions,\\nAnd this much gives me heart to play the game.\\nHere is a part that\\'s slight, and part gone wrong,\\nAnd much of little moment, and some few\\nPerfect as Dürer!\\n\"In the Studio\" and these two portraits,* if I had my choice I\\nAnd then these sketches in the mood of Greece?\\nYou had your searches, your uncertainties,\\nAnd this is good to know—for us, I mean,\\nWho bear the brunt of our America\\nAnd try to wrench her impulse into art.\\nYou were not always sure, not always set\\nTo hiding night or tuning \"symphonies\";\\nHad not one style from birth, but tried and pried\\nAnd stretched and tampered with the media.\\nYou and Abe Lincoln from that mass of dolts\\nShow us there\\'s chance at least of winning through.',\n",
       " 'Envoi\\nGo, dumb-born book,\\nTell her that sang me once that song of Lawes:\\nHadst thou but song\\nAs thou hast subjects known,\\nThen were there cause in thee that should condone\\nEven my faults that heavy upon me lie\\nAnd build her glories their longevity.\\nTell her that sheds\\nSuch treasure in the air,\\nRecking naught else but that her graces give\\nLife to the moment,\\nI would bid them live\\nAs roses might, in magic amber laid,\\nRed overwrought with orange and all made\\nOne substance and one colour\\nBraving time.\\nTell her that goes\\nWith song upon her lips\\nBut sings not out the song, nor knows\\nThe maker of it, some other mouth,\\nMay be as fair as hers,\\nMight, in new ages, gain her worshippers,\\nWhen our two dusts with Waller’s shall be laid,\\nSiftings on siftings in oblivion,\\nTill change hath broken down\\nAll things save Beauty alone.',\n",
       " \"Portrait d'une Femme\\nYour mind and you are our Sargasso Sea,\\nLondon has swept about you this score years\\nAnd bright ships left you this or that in fee:\\nIdeas, old gossip, oddments of all things,\\nStrange spars of knowledge and dimmed wares of price.\\nGreat minds have sought you — lacking someone else.\\nYou have been second always. Tragical?\\nNo. You preferred it to the usual thing:\\nOne dull man, dulling and uxorious,\\nOne average mind —   with one thought less, each year.\\nOh, you are patient, I have seen you sit\\nHours, where something might have floated up.\\nAnd now you pay one.   Yes, you richly pay.\\nYou are a person of some interest, one comes to you\\nAnd takes strange gain away:\\nTrophies fished up; some curious suggestion;\\nFact that leads nowhere; and a tale for two,\\nPregnant with mandrakes, or with something else\\nThat might prove useful and yet never proves,\\nThat never fits a corner or shows use,\\nOr finds its hour upon the loom of days:\\nThe tarnished, gaudy, wonderful old work;\\nIdols and ambergris and rare inlays,\\nThese are your riches, your great store; and yet\\nFor all this sea-hoard of deciduous things,\\nStrange woods half sodden, and new brighter stuff:\\nIn the slow float of differing light and deep,\\nNo! there is nothing! In the whole and all,\\nNothing that's quite your own.\\nYet this is you.\",\n",
       " \"The River-Merchant's Wife: A Letter\\nWhile my hair was still cut straight across my forehead\\nI played about the front gate, pulling flowers.\\nYou came by on bamboo stilts, playing horse,\\nYou walked about my seat, playing with blue plums.   \\nAnd we went on living in the village of Chōkan:\\nTwo small people, without dislike or suspicion.   \\nAt fourteen I married My Lord you.\\nI never laughed, being bashful.\\nLowering my head, I looked at the wall.\\nCalled to, a thousand times, I never looked back.\\nAt fifteen I stopped scowling,\\nI desired my dust to be mingled with yours\\nForever and forever, and forever.\\nWhy should I climb the look out?\\nAt sixteen you departed\\nYou went into far Ku-tō-en, by the river of swirling eddies,\\nAnd you have been gone five months.\\nThe monkeys make sorrowful noise overhead.\\nYou dragged your feet when you went out.\\nBy the gate now, the moss is grown, the different mosses,\\nToo deep to clear them away!\\nThe leaves fall early this autumn, in wind.\\nThe paired butterflies are already yellow with August\\nOver the grass in the West garden;\\nThey hurt me.\\nI grow older.\\nIf you are coming down through the narrows of the river Kiang,\\nPlease let me know beforehand,\\nAnd I will come out to meet you\\nAs far as Chō-fū-Sa.\",\n",
       " 'Alba\\nAs cool as the pale wet leaves \\nof lily-of-the-valley\\nShe lay beside me in the dawn.',\n",
       " \"An Immorality\\nSing we for love and idleness,\\nNaught else is worth the having. \\nThough I have been in many a land,\\nThere is naught else in living. \\nAnd I would rather have my sweet,\\nThough rose-leaves die of grieving, \\nThan do high deeds in Hungary\\nTo pass all men's believing. \",\n",
       " \"Ancient Music\\nWinter is icummen in, \\nLhude sing Goddamm. \\nRaineth drop and staineth slop, \\nAnd how the wind doth ramm! \\nSing: Goddamm. \\nSkiddeth bus and sloppeth us, \\nAn ague hath my ham. \\nFreezeth river, turneth liver, \\nDamn you, sing: Goddamm. \\nGoddamm, Goddamm, 'tis why I am, Goddamm, \\nSo 'gainst the winter's balm. \\nSing goddamm, damm, sing Goddamm. \\nSing goddamm, sing goddamm, DAMM. \",\n",
       " 'And The Days Are Not Full Enough\\nAnd the days are not full enough\\nAnd the nights are not full enough\\nAnd life slips by like a field mouse\\nNot shaking the grass',\n",
       " 'Before Sleep\\nThe lateral vibrations caress me,\\nThey leap and caress me,\\nThey work pathetically in my favour,\\nThey seek my financial good.\\nShe of the spear stands present.\\nThe gods of the underworld attend me, O Annubis,\\nThese are they of thy company.\\nWith a pathetic solicitude they attend me;\\nUndulant,\\nTheir realm is the lateral courses.\\nLight!\\nI am up to follow thee, Pallas.\\nUp and out of their caresses.\\nYou were gone up as a rocket,\\nBending your passages from right to left and from left to right\\nIn the flat projection of a spiral.\\nThe gods of drugged sleep attend me,\\nWishing me well;\\nI am up to follow thee, Pallas. ',\n",
       " 'Cantico del Sole\\nThe thought of what America would be like\\nIf the Classics had a wide circulation\\nTroubles my sleep,\\nThe thought of what America,\\nThe thought of what America,\\nThe thought of what America would be like\\nIf the Classics had a wide circulation\\nTroubles my sleep.\\nNunc dimittis, now lettest thou thy servant,\\nNow lettest thou thy servant\\nDepart in peace.\\nThe thought of what America,\\nThe thought of what America,\\nThe thought of what America would be like\\nIf the Classics had a wide circulation . . .\\nOh well!\\nIt troubles my sleep.',\n",
       " \"Epilogue\\nO Chansons foregoing\\nYou were a seven days' wonder.\\nWhen you came out in the magazines\\nYou created considerable stir in Chicago, \\nAnd now you are stale and worn out, \\nYou're a very depleted fashion, \\nA hoop-skirt, a calash, \\nAn homely, transient antiquity. \\nOnly emotion remains. \\nYour emotions? \\nAre those of a maitre-de-cafe.\",\n",
       " 'Fan-Piece, For Her Imperial Lord\\nO fan of white silk,\\nclear as frost on the grass-blade,\\nYou also are laid aside. ',\n",
       " 'Francesca\\nYou came in out of the night\\nAnd there were flowers in your hands,\\nNow you will come out of a confusion of people,\\nOut of a turmoil of speech about you.\\nI who have seen you amid the primal things\\nWas angry when they spoke your name\\nIn ordinary places.\\nI would that the cool waves might flow over my mind,\\nAnd that the world should dry as a dead leaf,\\nOr as a dandelion seed-pod and be swept away,\\nSo that I might find you again,\\nAlone.',\n",
       " 'Further Instructions\\nCome, my songs, let us express our baser passions.\\t\\nLet us express our envy for the man with a steady job and no worry about the future.\\t\\nYou are very idle, my songs;\\t\\nI fear you will come to a bad end.\\t\\nYou stand about the streets. You loiter at the corners and bus-stops,\\nYou do next to nothing at all.\\t\\nYou do not even express our inner nobility;\\t\\nYou will come to a very bad end.\\nAnd I? I have gone half cracked.\\t\\nI have talked to you so much that I almost see you about me,\\nInsolent little beasts! Shameless! Devoid of clothing!\\nBut you, newest song of the lot,\\t\\nYou are not old enough to have done much mischief.\\t\\nI will get you a green coat out of China\\t\\nWith dragons worked upon it.\\nI will get you the scarlet silk trousers\\t\\nFrom the statue of the infant Christ at Santa Maria Novella;\\nLest they say we are lacking in taste,\\t\\nOr that there is no caste in this family.',\n",
       " \"Grace Before Song\\nLord God of heaven that with mercy dight\\nTh'alternate prayer wheel of the night and light \\nEternal hath to thee, and in whose sight \\nOur days as rain drops in the sea surge fall,\\nAs bright white drops upon a leaden sea \\nGrant so my songs to this grey folk may be:\\nAs drops that dream and gleam and falling catch the sun \\nEvan'scent mirrors every opal one \\nOf such his splendor as their compass is, \\nSo, bold My Songs, seek ye such death as this. \",\n",
       " 'Histrion\\nNo man hath dared to write this thing as yet, \\nAnd yet I know, how that the souls of all men great \\nAt times pass athrough us, \\nAnd we are melted into them, and are not \\nSave reflexions of their souls. \\nThus am I Dante for a space and am \\nOne Francois Villon, ballad-lord and thief, \\nOr am such holy ones I may not write \\nLest blasphemy be writ against my name; \\nThis for an instant and the flame is gone. \\n\\n\\'Tis as in midmost us there glows a sphere \\nTranslucent, molten gold, that is the \"I\" \\nAnd into this some form projects itself: \\nChristus, or John, or eke the Florentine; \\nAnd as the clear space is not if a form\\'s \\nImposed thereon, \\nSo cease we from all being for the time, \\nAnd these, the Masters of the Soul, live on.',\n",
       " 'In Tempore Senectutis\\nWhen I am old\\nI will not have you look apart\\nFrom me, into the cold,\\nFriend of my heart,\\nNor be sad in your remembrance\\nOf the careless, mad-heart semblance\\nThat the wind hath blown away\\nWhen I am old.\\nWhen I am old\\nAnd the white hot wonder-fire\\nUnto the world seem cold,\\nMy soul\\'s desire\\nKnow you then that all life\\'s shower,\\nThe rain of the years, that hour\\nShall make blow for us one flower,\\nIncluding all, when we are old.\\nWhen I am old\\nIf you remember\\nAny love save what is then\\nHearth light unto life\\'s December\\nBe your joy of past sweet chalices\\nTo know then naught but this\\n\"How many wonders are less sweet\\nThan love I bear to thee\\nWhen I am old.\" ',\n",
       " 'In the Old Age of the Soul\\nI do not choose to dream; there cometh on me \\nSome strange old lust for deeds. \\nAs to the nerveless hand of some old warrior \\nThe sword-hilt or the war-worn wonted helmet \\nBrings momentary life and long-fled cunning, \\nSo to my soul grown old - \\nGrown old with many a jousting, many a foray, \\nGrown old with namy a hither-coming and hence-going - \\nTill now they send him dreams and no more deed; \\nSo doth he flame again with might for action, \\nForgetful of the council of elders, \\nForgetful that who rules doth no more battle, \\nForgetful that such might no more cleaves to him \\nSo doth he flame again toward valiant doing.',\n",
       " \"Invern\\nEarth's winter cometh\\nAnd I being part of all\\nAnd sith the spirit of all moveth in me\\nI must needs bear earth's winter\\nDrawn cold and grey with hours\\nAnd joying in a momentary sun,\\nLo I am withered with waiting till my spring cometh!\\nOr crouch covetous of warmth\\nO'er scant-logged ingle blaze,\\nMust take cramped joy in tomed Longinus\\nThat, read I him first time\\nThe woods agleam with summer\\nOr mid desirous winds of spring,\\nHad set me singing spheres\\nOr made heart to wander forth among warm roses\\nOr curl in grass next neath a kindly moon. \",\n",
       " 'Ione, Dead the Long Year\\nEmpty are the ways, \\nEmpty are the ways of this land \\nAnd the flowers \\nBend over with heavy heads. \\nThey bend in vain. \\nEmpty are the ways of this land \\nWhere Ione \\nWalked once, and now does not walk \\nBut seems like a person just gone.',\n",
       " 'Ité\\nGo, my songs, seek your praise from the young\\nand from the intolerant,\\nMove among the lovers of perfection alone.\\nSeek ever to stand in the hard Sophoclean light\\nAnd take you wounds from it gladly.',\n",
       " \"L'Art\\nGreen arsenic smeared on an egg-white cloth,\\nCrushed strawberries! Come, let us feast our eyes.\",\n",
       " \"Masks\\nThese tales of old disguisings, are they not\\nStrange myths of souls that found themselves among\\nUnwonted folk that spake an hostile tongue,\\nSome soul from all the rest who'd not forgot\\nThe star-span acres of a former lot\\nWhere boundless mid the clouds his course he swung,\\nOr carnate with his elder brothers sung\\nEre ballad-makers lisped of Camelot?\\nOld singers half-forgetful of their tunes,\\nOld painters color-blind come back once more,\\nOld poets skill-less in the wind-heart runes,\\nOld wizards lacking in their wonder-lore:\\nAll they that with strange sadness in their eyes\\nPonder in silence o'er earth's queynt devyse?\",\n",
       " \"Medallion\\nLuini in porcelain! \\nThe grand piano \\nUtters a profane \\nProtest with her clear soprano.\\nThe sleek head emerges \\nFrom the gold-yellow frock \\nAs Anadyomene in the opening \\nPages of Reinach.\\nHoney-red, closing the face-oval, \\nA basket-work of braids which seem as if they were \\nSpun in King Minos' hall \\nFrom metal, or intractable amber;\\nThe face-oval beneath the glaze, \\nBright in its suave bounding-line, as, \\nBeneath half-watt rays, \\nThe eyes turn topaz.\",\n",
       " 'Meditatio\\nWhen I carefully consider the curious habits of dogs\\nI am compelled to conclude\\nThat man is the superior animal.\\nWhen I consider the curious habits of man\\nI confess, my friend, I am puzzled.',\n",
       " 'Notes for Canto CXX\\nI have tried to write Paradise\\nDo not move\\nLet the wind speak\\nthat is paradise.\\nLet the Gods forgive what I\\nhave made\\nLet those I love try to forgive\\nwhat I have made.',\n",
       " \"Quies\\nThis is another of our ancient loves.\\nPass and be silent, Rullus, for the day\\nHath lacked a something since this lady passed;\\nHath lacked a something. 'Twas but marginal\",\n",
       " 'Salutation\\nO generation of the thoroughly smug\\nand thoroughly uncomfortable,\\nI have seen fishermen picnicking in the sun,\\nI have seen them with untidy families,\\nI have seen their smiles full of teeth\\nand heard ungainly laughter.\\nAnd I am happier than you are,\\nAnd they were happier than I am;\\nAnd the fish swim in the lake\\nand do not even own clothing.',\n",
       " 'Silet\\nWhen I behold how black, immortal ink\\nDrips from my deathless pen - ah, well-away!\\nWhy should we stop at all for what I think?\\nThere is enough in what I chance to say.\\nIt is enough that we once came together;\\nWhat is the use of setting it to rime?\\nWhen it is autumn do we get spring weather,\\nOr gather may of harsh northwindish time?\\nIt is enough that we once came together;\\nWhat if the wind have turned against the rain?\\nIt is enough that we once came together;\\nTime has seen this, and will not turn again;\\nAnd who are we, who know that last intent,\\nTo plague to-morrow with a testament!',\n",
       " 'Statement of Being\\nI am a grave poetic hen\\nThat lays poetic eggs\\nAnd to enhance my temperament\\nA little quiet begs.\\nWe make the yolk philosophy,\\nTrue beauty the albumen.\\nAnd then gum on a shell of form\\nTo make the screed sound human.',\n",
       " \"Sub-Mare\\nIt is, and is not, I am sane enough,\\nSince you have come this place has hovered round me,\\nThis fabrication built of autumn roses,\\nThen there's a goldish colour, different.\\nAnd one gropes in these things as delicate\\nAlgae reach up and out, beneath\\nPale slow green surgings of the underwave,\\n'Mid these things older than the names they have,\\nThese things that are familiears of the god.\",\n",
       " 'Taking Leave of a Friend\\nBlue mountains to the north of the walls,\\nWhite river winding about them;\\nHere we must make separation\\nAnd go out through a thousand miles of dead grass.\\nMind like a floating wide cloud,\\nSunset like the parting of old acquaintances\\nWho bow over their clasped hands at a distance.\\nOur horses neigh to each others\\nas we are departing.',\n",
       " 'Tame Cat\\nIt rests me to be among beautiful women\\nWhy should one always lie about such matters?\\nI repeat:\\nIt rests me to converse with beautiful women\\nEven though we talk nothing but nonsense,\\nThe purring of the invisible antennae\\nIs both stimulating and delightful.',\n",
       " 'The Bath-Tub\\nAs a bathtub lined with white porcelain, \\nWhen the hot water gives out or goes tepid, \\nSo is the slow cooling of our chivalrous passion, \\nO my much praised but-not-altogether-satisfactory lady.',\n",
       " 'The Encounter\\nAll the while they were talking the new morality\\nHer eyes explored me.\\nAnd when I rose to go\\nHer fingers were like the tissue\\nOf a Japanese paper napkin.',\n",
       " \"The Fault of It\\nSome may have blamed us that we cease to speak\\nOf things we spoke of in our verses early,\\nSaying: a lovely voice is such as such;\\nSaying: that lady's eyes were sad last week,\\nWherein the world's whole joy is born and dies;\\nSaying: she hath this way or that, this much\\nOf grace, this way or that, this much\\nOf grace, this little misericorde;\\nAsk us no further word;\\nIf we were proud, then proud to be so wise\\nAsk us no more of all the things ye heard;\\nWe may not speak of them, they touch us nearly.\",\n",
       " 'The Garden\\nLike a skein of loose silk blown against a wall\\t\\nShe walks by the railing of a path in Kensington Gardens,\\t\\nAnd she is dying piece-meal\\nof a sort of emotional anemia.\\nAnd round about there is a rabble\\nOf the filthy, sturdy, unkillable infants of the very poor.\\t\\nThey shall inherit the earth.\\t\\nIn her is the end of breeding.\\t\\nHer boredom is exquisite and excessive.\\nShe would like some one to speak to her,\\nAnd is almost afraid that I\\nwill commit that indiscretion.',\n",
       " 'The Garrett\\nCome, let us pity those who are better off than we are.\\nCome, my friend, and remember\\nthat the rich have butlers and no friends,\\nAnd we have friends and no butlers.\\nCome, let us pity the married and the unmarried. \\nDawn enters with little feet\\nlike a gilded Pavlova\\nAnd I am near my desire.\\nNor has life in it aught better\\nThan this hour of clear coolness\\nthe hour of waking together.',\n",
       " \"The Lake Isle\\nO God, O Venus, O Mercury, patron of thieves, \\nGive me in due time, I beseech you, a little tobacco-shop, \\nWith the little bright boxes\\npiled up neatly upon the shelves\\nAnd the loose fragment cavendish\\nand the shag, \\nAnd the bright Virginia\\nloose under the bright glass cases, \\nAnd a pair of scales\\nnot too greasy, \\nAnd the votailles dropping in for a word or two in passing, \\nFor a flip word, and to tidy their hair a bit.\\nO God, O Venus, O Mercury, patron of thieves, \\nLend me a little tobacco-shop, \\nor install me in any profession\\nSave this damn'd profession of writing, \\nwhere one needs one's brains all the time. \",\n",
       " 'The Logical Conclusion\\nWhen earth\\'s last thesis is copied\\nFrom the theses that went before,\\nWhen idea from fact has departed\\nAnd bare-boned factlets shall bore,\\nWhen all joy shall have fled from study\\nAnd scholarship reign supreme;\\nWhen truth shall \"baaa\" on the hill crests \\nAnd no one shall dare to dream;\\nWhen all the good poems have been buried\\nWith comment annoted in full\\nAnd art shall bow down in homage\\nTo scholarship\\'s zinc-plated bull,\\nWhen there shall be nothing to research\\nBut the notes of annoted notes,\\nAnd Baalam\\'s ass shall inquire\\nThe price of imported oats;\\nThen no one shall tell him the answer\\nFor each shall know the one fact\\nThat lies in the special ass-ignment\\nFrom which he is making his tract.\\nSo the ass shall sigh uninstructed\\nWhile each in his separate book\\nShall grind for the love of grinding\\nAnd only the devil shall look.',\n",
       " \"The Needle\\nCome, or the stellar tide will slip away.\\nEastward avoid the hour of its decline,\\nNow! for the needle trembles in my soul!\\nHere have we had the vantage, the good hour.\\nHere we have had our day, your day and mine.\\nCome now, before this power\\nThat bears us up, shall turn against the pole.\\nMock not the flood of stars, the thing's to be.\\nO Love, come now, this land turns evil slowly.\\nThe waves bore in, soon will they bear away.\\nThe treasure is ours, make we fast land with it.\\nMove we and take the tide, with its next favour,\\nAbide\\nUnder some neutral force\\nUntil this course turneth aside.\",\n",
       " 'The Plunge\\nI would bathe myself in strangeness:\\nThese comforts heaped upon me, smother me!\\nI burn, I scald so for the new,\\nNew friends, new faces,\\nPlaces!\\nOh to be out of this,\\nThis that is all I wanted\\n- save the new.\\nAnd you,\\nLove, you the much, the more desired!\\nDo I not loathe all walls, streets, stones,\\nAll mire, mist, all fog,\\nAll ways of traffic?\\nYou, I wold have flow over me like water,\\nOh, but far out of this!\\nGrass, and low fields, and hills,\\nAnd sun,\\nOh, sun enough!\\nOut, and alone, among some\\nAlien people!',\n",
       " \"Song in the Manner of Housman\\nO woe, woe,\\nPeople are born and die,\\nWe also shall be dead pretty soon\\nTherefore let us act as if we were\\ndead already.\\nThe bird sits on the hawthorn tree\\nBut he dies also, presently.\\nSome lads get hung, and some get shot.\\nWoeful is this human lot.\\nWoe! woe, etcetera . . . .\\nLondon is a woeful place,\\nShropshire is much pleasanter.\\nThen let us smile a little space\\nUpon fond nature's morbid grace.\\nOh, Woe, woe, woe, etcetera . . . .\",\n",
       " 'The Seeing Eye\\nThe small dogs look at the big dogs;\\nThey observe unwieldy dimensions\\nAnd curious imperfections of odor.\\nHere is the formal male group:\\nThe young men look upon their seniors,\\nThey consider the elderly mind\\nAnd observe its inexplicable correlations.\\nSaid Tsin-Tsu:\\nIt is only in small dogs and the young\\nThat we find minute observation',\n",
       " \"The Tree\\nI stood still and was a tree amid the wood,\\nKnowing the truth of things unseen before;\\nOf Daphne and the laurel bow\\nAnd that god-feasting couple old\\nthat grew elm-oak amid the wold.\\n'Twas not until the gods had been\\nKindly entreated, and been brought within\\nUnto the hearth of their heart's home\\nThat they might do this wonder thing;\\nNathless I have been a tree amid the wood\\nAnd many a new thing understood\\nThat was rank folly to my head before.\",\n",
       " \"These Fought in Any Case\\nThese fought in any case,\\nand some believing\\npro domo, in any case .....\\nDied some, pro patria,\\nwalked eye-deep in hell\\nbelieving in old men's lies, then unbelieving\\ncame home, home to a lie,\\nhome to many deceits,\\nhome to old lies and new infamy;\\nusury age-old and age-thick\\nand liars in public places.\\nDaring as never before, wastage as never before.\\nYoung blood and high blood,\\nfair cheeks, and fine bodies;\\nfortitude as never before\\nfrankness as never before,\\ndisillusions as never told in the old days,\\nhysterias, trench confessions,\\nlaughter out of dead bellies.\",\n",
       " \"Ts'ai Chi'h\\nThe petals fall in the fountain,\\nthe orange-coloured rose-leaves,\\nTheir ochre clings to the stone.\",\n",
       " \"To the Raphaelite Latinists\\nYe fellowship that sing the woods and spring,\\nPoets of joy that sing the day's delight,\\nPoets of youth that 'neath the aisles of night\\nYour flowers and sighs against the lintels fling;\\nWho rose and myrtle in your garlands bring\\nTo marble altars, though their gods took flight\\nLong ere your dream-shot eyes drank summer light\\nAnd wine of old time myth and vintaging,\\nTake of our praise one cup, though thin the wine\\nThat Bacchus may not bless nor Pan outpour:\\nThough reed pipe and the lyre be names upon\\nThe wind, and moon-lit dreams be quite out-gone\\nFrom ways we tread, one cup to names ye bore,\\nOne wreath from ashes of your songs we twine!\",\n",
       " \"Nicotine: A Hymn to the Dope\\nGoddess of the murmuring courts,\\nNicotine, my Nicotine,\\nHouri of the mystic sports,\\ntrailing-robed in gabardine,\\nGliding where the breath hath glided,\\nHidden sylph of filmy veils,\\nTruth behind the dream is veiléd\\nE'en as thou art, smiling ever, ever gliding,\\nWraith of wraiths, dim lights dividing\\nPurple, grey, and shadow green\\nGoddess, Dream-grace, Nicotine.\\nGoddess of the shadow's lights,\\nNicotine, my Nicotine,\\nSome would set old Earth to rights,\\nThou I none such ween.\\nVeils of shade our dream dividing,\\nHouris dancing, intergliding,\\nWraith of wraiths and dream of faces,\\nSilent guardian of the old unhallowed places,\\nUtter symbol of all old sweet druidings,\\nMem'ry of witched wold and green,\\nNicotine, my Nicotine:\\nNeath the shadows of thy weaving\\nDreams that need no undeceiving,\\nLoves that longer hold me not,\\nDreams I dream not any more,\\nFragrance of old sweet forgotten places,\\nSmiles of dream-lit, flit-by faces\\nAll as perfume Arab-sweet\\nDeck the high road to thy feet\\nAs were Godiva's coming fated\\nAnd all the April's blush belated\\nWere lain before her, carpeting\\nThe stones of Coventry with spring,\\nSo thou my mist-enwreathéd queen,\\nNicotine, white Nicotine,\\nRiding engloried in they hair\\nMak'st by-road of our dreams\\nThy thorough-fare.\",\n",
       " 'The Return\\nSee, they return; ah, see the tentative\\t\\nMovements, and the slow feet,\\t\\nThe trouble in the pace and the uncertain\\t\\nWavering!\\nSee, they return, one, and by one,\\t        \\nWith fear, as half-awakened;\\t\\nAs if the snow should hesitate\\t\\nAnd murmur in the wind,\\nand half turn back;\\t\\nThese were the “Wing’d-with-Awe,\"\\ninviolable.\\t\\nGods of the wingèd shoe!\\t\\nWith them the silver hounds,\\nsniffing the trace of air!\\t\\nHaie! Haie!\\nThese were the swift to harry;\\t\\nThese the keen-scented;\\t\\nThese were the souls of blood.\\t\\nSlow on the leash,\\t\\npallid the leash-men!',\n",
       " 'The Summons\\nI can not bow to woo thee \\nWith honey words and flower kisses \\nAnd the dew of sweet half-truths \\nFallen on the grass of old quaint love-tales \\nOf broidered days foredone. \\nNor in the murmurous twilight \\nMay I sit below thee, \\nWorshiping in whispers \\nTremulous as far-heard bells. \\nAll these things have I known once \\nAnd passed \\nIn that gay youth I had but yester-year. \\nAnd that is gone \\nAs the shadow of wind. \\nNay, I can not woo thee thus; \\nBut as I am ever swept upward \\nTo the centre of all truth \\nSo must I bear thee with me \\nRapt into this great involving flame, \\nCalling ever from the midst thereof, \\n\"Follow! Follow!\" \\nAnd in the glory of our meeting \\nShall the power be reborn. \\nAnd together in the midst of this power \\nMust we, each outstriving each, \\nCry eternally: \\n\"I come, go thou yet further.\" \\nAnd again, \"Follow,\" \\nFor we may not tarry.',\n",
       " \"Ezra on the Strike\\nWal, Thanksgivin' do be comin' round.\\nWith the price of turkeys on the bound,\\nAnd coal, by gum! Thet were just found,\\nIs surely gettin' cheaper.\\nThe winds will soon begin to howl,\\nAnd winter, in its yearly growl,\\nAcross the medders begin to prowl,\\nAnd Jack Frost gettin' deeper.\\nBy shucks! It seems to me,\\nThat you I orter be\\nThankful, that our Ted could see\\nA way to operate it.\\nI sez to Mandy, sure, sez I,\\nI'll bet thet air patch o' rye\\nThet he'll squash 'em by-and-by,\\nAnd he did, by cricket!\\nNo use talkin', he's the man -\\nOne of the best thet ever ran,\\nFer didn't I turn Republican\\nOne o' the fust?\\nI 'lowed as how he'd beat the rest,\\nBut old Si Perkins, he hemmed and guessed,\\nAnd sed as how it wuzn't best\\nTo meddle with the trust.\",\n",
       " 'Villanelle: The Psychological Hour\\nI had over prepared the event,\\nthat much was ominous.\\nWith middle-ageing care\\nI had laid out just the right books.\\nI had almost turned down the pages.\\nBeauty is so rare a thing.\\nSo few drink of my fountain.\\nSo much barren regret,\\nSo many hours wasted!\\nAnd now I watch, from the window,\\nthe rain, the wandering busses.\\n\"Their little cosmos is shaken\" -\\nthe air is alive with that fact.\\nIn their parts of the city\\nthey are played on by diverse forces.\\nHow do I know?\\nOh, I know well enough.\\nFor them there is something afoot.\\nAs for me;\\nI had over-prepared the event -\\nBeauty is so rare a thing.\\nSo few drink of my fountain.\\nTwo friends: a breath of the forest. . .\\nFriends? Are people less friends\\nbecause one has just, at last, found them?\\nTwice they promised to come. \\n\"Between the night and the morning?\"\\nBeauty would drink of my mind.\\nYouth would awhile forget\\nmy youth is gone from me.\\n(Speak up! You have danced so stiffly?\\nSomeone admired your works,\\nAnd said so frankly.\\n\"Did you talk like a fool,\\nThe first night?\\nThe second evening?\"\\n\"But they promised again:\\n\\'To-morrow at tea-time\\'.\")\\nNow the third day is here -\\nno word from either;\\nNo word from her nor him,\\nOnly another man\\'s note:\\n\"Dear Pound, I am leaving England.\"  ']"
      ]
     },
     "execution_count": 124,
     "metadata": {},
     "output_type": "execute_result"
    }
   ],
   "source": [
    "collection_list"
   ]
  },
  {
   "cell_type": "code",
   "execution_count": 125,
   "metadata": {
    "collapsed": false
   },
   "outputs": [
    {
     "data": {
      "text/plain": [
       "58"
      ]
     },
     "execution_count": 125,
     "metadata": {},
     "output_type": "execute_result"
    }
   ],
   "source": [
    "len(collection_list)"
   ]
  },
  {
   "cell_type": "code",
   "execution_count": 126,
   "metadata": {
    "collapsed": false
   },
   "outputs": [],
   "source": [
    "#Create a table with columns \"Poem Title\", \"Poem Text\", and poem length in lines\n",
    "titles = []\n",
    "line_matrix = []\n",
    "poem_length = []\n",
    "for poem in collection_list:\n",
    "    line_list = poem.split('\\n')\n",
    "    titles.append(line_list.pop(0))\n",
    "    line_matrix.append(line_list)\n",
    "    poem_length.append(len(line_list))"
   ]
  },
  {
   "cell_type": "code",
   "execution_count": 127,
   "metadata": {
    "collapsed": false
   },
   "outputs": [],
   "source": [
    "raw_poem_tb = Table().with_columns([\n",
    "        'Title', titles,\n",
    "        'Text', line_matrix,\n",
    "        'Number of Lines', poem_length])"
   ]
  },
  {
   "cell_type": "code",
   "execution_count": 128,
   "metadata": {
    "collapsed": false
   },
   "outputs": [
    {
     "data": {
      "text/html": [
       "<table border=\"1\" class=\"dataframe\">\n",
       "    <thead>\n",
       "        <tr>\n",
       "            <th>Title</th> <th>Text</th> <th>Number of Lines</th>\n",
       "        </tr>\n",
       "    </thead>\n",
       "    <tbody>\n",
       "        <tr>\n",
       "            <td>A Girl                             </td> <td>['The tree has entered my hands,', 'The sap has ascended ...</td> <td>10             </td>\n",
       "        </tr>\n",
       "    </tbody>\n",
       "        <tr>\n",
       "            <td>A Pact                             </td> <td>['I make a pact with you, Walt Whitman -', 'I have detes ...</td> <td>9              </td>\n",
       "        </tr>\n",
       "    </tbody>\n",
       "        <tr>\n",
       "            <td>A Virginal                         </td> <td>['No, no! Go from me. I have left her lately.', 'I will  ...</td> <td>14             </td>\n",
       "        </tr>\n",
       "    </tbody>\n",
       "        <tr>\n",
       "            <td>In A Station of the Metro          </td> <td>['The apparition of these faces in the crowd:', 'Petals  ...</td> <td>2              </td>\n",
       "        </tr>\n",
       "    </tbody>\n",
       "        <tr>\n",
       "            <td>Middle Aged                        </td> <td>[\"'Tis but a vague, invarious delight.\", 'As gold that r ...</td> <td>23             </td>\n",
       "        </tr>\n",
       "    </tbody>\n",
       "        <tr>\n",
       "            <td>To Whistper, American              </td> <td>['You also, our first great,', 'Had tried all ways;', 'T ...</td> <td>19             </td>\n",
       "        </tr>\n",
       "    </tbody>\n",
       "        <tr>\n",
       "            <td>Envoi                              </td> <td>['Go, dumb-born book,', 'Tell her that sang me once that ...</td> <td>26             </td>\n",
       "        </tr>\n",
       "    </tbody>\n",
       "        <tr>\n",
       "            <td>Portrait d'une Femme               </td> <td>['Your mind and you are our Sargasso Sea,', 'London has  ...</td> <td>30             </td>\n",
       "        </tr>\n",
       "    </tbody>\n",
       "        <tr>\n",
       "            <td>The River-Merchant's Wife: A Letter</td> <td>['While my hair was still cut straight across my forehea ...</td> <td>30             </td>\n",
       "        </tr>\n",
       "    </tbody>\n",
       "        <tr>\n",
       "            <td>Alba                               </td> <td>['As cool as the pale wet leaves ', 'of lily-of-the-vall ...</td> <td>3              </td>\n",
       "        </tr>\n",
       "    </tbody>\n",
       "</table>\n",
       "<p>... (48 rows omitted)</p"
      ],
      "text/plain": [
       "Title                               | Text                                                         | Number of Lines\n",
       "A Girl                              | ['The tree has entered my hands,', 'The sap has ascended ... | 10\n",
       "A Pact                              | ['I make a pact with you, Walt Whitman -', 'I have detes ... | 9\n",
       "A Virginal                          | ['No, no! Go from me. I have left her lately.', 'I will  ... | 14\n",
       "In A Station of the Metro           | ['The apparition of these faces in the crowd:', 'Petals  ... | 2\n",
       "Middle Aged                         | [\"'Tis but a vague, invarious delight.\", 'As gold that r ... | 23\n",
       "To Whistper, American               | ['You also, our first great,', 'Had tried all ways;', 'T ... | 19\n",
       "Envoi                               | ['Go, dumb-born book,', 'Tell her that sang me once that ... | 26\n",
       "Portrait d'une Femme                | ['Your mind and you are our Sargasso Sea,', 'London has  ... | 30\n",
       "The River-Merchant's Wife: A Letter | ['While my hair was still cut straight across my forehea ... | 30\n",
       "Alba                                | ['As cool as the pale wet leaves ', 'of lily-of-the-vall ... | 3\n",
       "... (48 rows omitted)"
      ]
     },
     "execution_count": 128,
     "metadata": {},
     "output_type": "execute_result"
    }
   ],
   "source": [
    "raw_poem_tb"
   ]
  },
  {
   "cell_type": "code",
   "execution_count": 138,
   "metadata": {
    "collapsed": false
   },
   "outputs": [
    {
     "data": {
      "text/html": [
       "<table border=\"1\" class=\"dataframe\">\n",
       "    <thead>\n",
       "        <tr>\n",
       "            <th>Title</th> <th>Text</th> <th>Number of Lines</th>\n",
       "        </tr>\n",
       "    </thead>\n",
       "    <tbody>\n",
       "        <tr>\n",
       "            <td>A Girl                          </td> <td>['The tree has entered my hands,', 'The sap has ascended ...</td> <td>10             </td>\n",
       "        </tr>\n",
       "    </tbody>\n",
       "        <tr>\n",
       "            <td>A Pact                          </td> <td>['I make a pact with you, Walt Whitman -', 'I have detes ...</td> <td>9              </td>\n",
       "        </tr>\n",
       "    </tbody>\n",
       "        <tr>\n",
       "            <td>In A Station of the Metro       </td> <td>['The apparition of these faces in the crowd:', 'Petals  ...</td> <td>2              </td>\n",
       "        </tr>\n",
       "    </tbody>\n",
       "        <tr>\n",
       "            <td>Alba                            </td> <td>['As cool as the pale wet leaves ', 'of lily-of-the-vall ...</td> <td>3              </td>\n",
       "        </tr>\n",
       "    </tbody>\n",
       "        <tr>\n",
       "            <td>An Immorality                   </td> <td>['Sing we for love and idleness,', 'Naught else is worth ...</td> <td>8              </td>\n",
       "        </tr>\n",
       "    </tbody>\n",
       "        <tr>\n",
       "            <td>And The Days Are Not Full Enough</td> <td>['And the days are not full enough', 'And the nights are ...</td> <td>4              </td>\n",
       "        </tr>\n",
       "    </tbody>\n",
       "        <tr>\n",
       "            <td>Fan-Piece, For Her Imperial Lord</td> <td>['O fan of white silk,', 'clear as frost on the grass-bl ...</td> <td>3              </td>\n",
       "        </tr>\n",
       "    </tbody>\n",
       "        <tr>\n",
       "            <td>Grace Before Song               </td> <td>['Lord God of heaven that with mercy dight', \"Th'alterna ...</td> <td>10             </td>\n",
       "        </tr>\n",
       "    </tbody>\n",
       "        <tr>\n",
       "            <td>Ione, Dead the Long Year        </td> <td>['Empty are the ways, ', 'Empty are the ways of this lan ...</td> <td>9              </td>\n",
       "        </tr>\n",
       "    </tbody>\n",
       "        <tr>\n",
       "            <td>Ité                             </td> <td>['Go, my songs, seek your praise from the young', 'and f ...</td> <td>5              </td>\n",
       "        </tr>\n",
       "    </tbody>\n",
       "</table>\n",
       "<p>... (13 rows omitted)</p"
      ],
      "text/plain": [
       "Title                            | Text                                                         | Number of Lines\n",
       "A Girl                           | ['The tree has entered my hands,', 'The sap has ascended ... | 10\n",
       "A Pact                           | ['I make a pact with you, Walt Whitman -', 'I have detes ... | 9\n",
       "In A Station of the Metro        | ['The apparition of these faces in the crowd:', 'Petals  ... | 2\n",
       "Alba                             | ['As cool as the pale wet leaves ', 'of lily-of-the-vall ... | 3\n",
       "An Immorality                    | ['Sing we for love and idleness,', 'Naught else is worth ... | 8\n",
       "And The Days Are Not Full Enough | ['And the days are not full enough', 'And the nights are ... | 4\n",
       "Fan-Piece, For Her Imperial Lord | ['O fan of white silk,', 'clear as frost on the grass-bl ... | 3\n",
       "Grace Before Song                | ['Lord God of heaven that with mercy dight', \"Th'alterna ... | 10\n",
       "Ione, Dead the Long Year         | ['Empty are the ways, ', 'Empty are the ways of this lan ... | 9\n",
       "Ité                              | ['Go, my songs, seek your praise from the young', 'and f ... | 5\n",
       "... (13 rows omitted)"
      ]
     },
     "execution_count": 138,
     "metadata": {},
     "output_type": "execute_result"
    }
   ],
   "source": [
    "reception_mask = (raw_poem_tb['Number of Lines']<=10)\n",
    "short_lyric_tb = raw_poem_tb.where(reception_mask)\n",
    "\n",
    "short_lyric_tb"
   ]
  },
  {
   "cell_type": "code",
   "execution_count": 139,
   "metadata": {
    "collapsed": false
   },
   "outputs": [],
   "source": [
    "line_matrix = Table().with_column('Title', short_lyric_tb['Title'])"
   ]
  },
  {
   "cell_type": "code",
   "execution_count": 140,
   "metadata": {
    "collapsed": true
   },
   "outputs": [],
   "source": [
    "invalid_input = 0"
   ]
  },
  {
   "cell_type": "code",
   "execution_count": 141,
   "metadata": {
    "collapsed": false
   },
   "outputs": [],
   "source": [
    "matrix_columns = []\n",
    "for i in range(1, 11):\n",
    "    column_name = 'Line ' + str(i)\n",
    "    matrix_columns.append([column_name])\n",
    "\n",
    "for _poem in short_lyric_tb['Text']:\n",
    "    for x in range(0, 10):\n",
    "        if x < len(_poem):\n",
    "            matrix_columns[x].append(_poem[x])\n",
    "        else:\n",
    "            matrix_columns[x].append(invalid_input)"
   ]
  },
  {
   "cell_type": "code",
   "execution_count": 142,
   "metadata": {
    "collapsed": false
   },
   "outputs": [
    {
     "data": {
      "text/html": [
       "<table border=\"1\" class=\"dataframe\">\n",
       "    <thead>\n",
       "        <tr>\n",
       "            <th>Title</th> <th>Line 1</th> <th>Line 2</th> <th>Line 3</th> <th>Line 4</th> <th>Line 5</th> <th>Line 6</th> <th>Line 7</th> <th>Line 8</th> <th>Line 9</th> <th>Line 10</th>\n",
       "        </tr>\n",
       "    </thead>\n",
       "    <tbody>\n",
       "        <tr>\n",
       "            <td>A Girl                          </td> <td>The tree has entered my hands,               </td> <td>The sap has ascended my arms,                    </td> <td>The tree has grown in my breast -         </td> <td>Downward,                                      </td> <td>The branches grow out of me, like arms. </td> <td>Tree you are,                              </td> <td>Moss you are,                                           </td> <td>You are violets with wind above them.</td> <td>A child - so high - you are,              </td> <td>And all this is folly to the world.            </td>\n",
       "        </tr>\n",
       "    </tbody>\n",
       "        <tr>\n",
       "            <td>A Pact                          </td> <td>I make a pact with you, Walt Whitman -       </td> <td>I have detested you long enough.                 </td> <td>I come to you as a grown child            </td> <td>Who has had a pig-headed father;               </td> <td>I am old enough now to make friends.    </td> <td>It was you that broke the new wood,        </td> <td>Now is a time for carving.                              </td> <td>We have one sap and one root -       </td> <td>Let there be commerce between us.         </td> <td>0                                              </td>\n",
       "        </tr>\n",
       "    </tbody>\n",
       "        <tr>\n",
       "            <td>In A Station of the Metro       </td> <td>The apparition of these faces in the crowd:  </td> <td>Petals on a wet, black bough.                    </td> <td>0                                         </td> <td>0                                              </td> <td>0                                       </td> <td>0                                          </td> <td>0                                                       </td> <td>0                                    </td> <td>0                                         </td> <td>0                                              </td>\n",
       "        </tr>\n",
       "    </tbody>\n",
       "        <tr>\n",
       "            <td>Alba                            </td> <td>As cool as the pale wet leaves               </td> <td>of lily-of-the-valley                            </td> <td>She lay beside me in the dawn.            </td> <td>0                                              </td> <td>0                                       </td> <td>0                                          </td> <td>0                                                       </td> <td>0                                    </td> <td>0                                         </td> <td>0                                              </td>\n",
       "        </tr>\n",
       "    </tbody>\n",
       "        <tr>\n",
       "            <td>An Immorality                   </td> <td>Sing we for love and idleness,               </td> <td>Naught else is worth the having.                 </td> <td>Though I have been in many a land,        </td> <td>There is naught else in living.                </td> <td>And I would rather have my sweet,       </td> <td>Though rose-leaves die of grieving,        </td> <td>Than do high deeds in Hungary                           </td> <td>To pass all men's believing.         </td> <td>0                                         </td> <td>0                                              </td>\n",
       "        </tr>\n",
       "    </tbody>\n",
       "        <tr>\n",
       "            <td>And The Days Are Not Full Enough</td> <td>And the days are not full enough             </td> <td>And the nights are not full enough               </td> <td>And life slips by like a field mouse      </td> <td>Not shaking the grass                          </td> <td>0                                       </td> <td>0                                          </td> <td>0                                                       </td> <td>0                                    </td> <td>0                                         </td> <td>0                                              </td>\n",
       "        </tr>\n",
       "    </tbody>\n",
       "        <tr>\n",
       "            <td>Fan-Piece, For Her Imperial Lord</td> <td>O fan of white silk,                         </td> <td>clear as frost on the grass-blade,               </td> <td>You also are laid aside.                  </td> <td>0                                              </td> <td>0                                       </td> <td>0                                          </td> <td>0                                                       </td> <td>0                                    </td> <td>0                                         </td> <td>0                                              </td>\n",
       "        </tr>\n",
       "    </tbody>\n",
       "        <tr>\n",
       "            <td>Grace Before Song               </td> <td>Lord God of heaven that with mercy dight     </td> <td>Th'alternate prayer wheel of the night and light </td> <td>Eternal hath to thee, and in whose sight  </td> <td>Our days as rain drops in the sea surge fall,  </td> <td>As bright white drops upon a leaden sea </td> <td>Grant so my songs to this grey folk may be:</td> <td>As drops that dream and gleam and falling catch the sun </td> <td>Evan'scent mirrors every opal one    </td> <td>Of such his splendor as their compass is, </td> <td>So, bold My Songs, seek ye such death as this. </td>\n",
       "        </tr>\n",
       "    </tbody>\n",
       "        <tr>\n",
       "            <td>Ione, Dead the Long Year        </td> <td>Empty are the ways,                          </td> <td>Empty are the ways of this land                  </td> <td>And the flowers                           </td> <td>Bend over with heavy heads.                    </td> <td>They bend in vain.                      </td> <td>Empty are the ways of this land            </td> <td>Where Ione                                              </td> <td>Walked once, and now does not walk   </td> <td>But seems like a person just gone.        </td> <td>0                                              </td>\n",
       "        </tr>\n",
       "    </tbody>\n",
       "        <tr>\n",
       "            <td>Ité                             </td> <td>Go, my songs, seek your praise from the young</td> <td>and from the intolerant,                         </td> <td>Move among the lovers of perfection alone.</td> <td>Seek ever to stand in the hard Sophoclean light</td> <td>And take you wounds from it gladly.     </td> <td>0                                          </td> <td>0                                                       </td> <td>0                                    </td> <td>0                                         </td> <td>0                                              </td>\n",
       "        </tr>\n",
       "    </tbody>\n",
       "</table>\n",
       "<p>... (13 rows omitted)</p"
      ],
      "text/plain": [
       "Title                            | Line 1                                        | Line 2                                            | Line 3                                     | Line 4                                          | Line 5                                   | Line 6                                      | Line 7                                                   | Line 8                                | Line 9                                     | Line 10\n",
       "A Girl                           | The tree has entered my hands,                | The sap has ascended my arms,                     | The tree has grown in my breast -          | Downward,                                       | The branches grow out of me, like arms.  | Tree you are,                               | Moss you are,                                            | You are violets with wind above them. | A child - so high - you are,               | And all this is folly to the world.\n",
       "A Pact                           | I make a pact with you, Walt Whitman -        | I have detested you long enough.                  | I come to you as a grown child             | Who has had a pig-headed father;                | I am old enough now to make friends.     | It was you that broke the new wood,         | Now is a time for carving.                               | We have one sap and one root -        | Let there be commerce between us.          | 0\n",
       "In A Station of the Metro        | The apparition of these faces in the crowd:   | Petals on a wet, black bough.                     | 0                                          | 0                                               | 0                                        | 0                                           | 0                                                        | 0                                     | 0                                          | 0\n",
       "Alba                             | As cool as the pale wet leaves                | of lily-of-the-valley                             | She lay beside me in the dawn.             | 0                                               | 0                                        | 0                                           | 0                                                        | 0                                     | 0                                          | 0\n",
       "An Immorality                    | Sing we for love and idleness,                | Naught else is worth the having.                  | Though I have been in many a land,         | There is naught else in living.                 | And I would rather have my sweet,        | Though rose-leaves die of grieving,         | Than do high deeds in Hungary                            | To pass all men's believing.          | 0                                          | 0\n",
       "And The Days Are Not Full Enough | And the days are not full enough              | And the nights are not full enough                | And life slips by like a field mouse       | Not shaking the grass                           | 0                                        | 0                                           | 0                                                        | 0                                     | 0                                          | 0\n",
       "Fan-Piece, For Her Imperial Lord | O fan of white silk,                          | clear as frost on the grass-blade,                | You also are laid aside.                   | 0                                               | 0                                        | 0                                           | 0                                                        | 0                                     | 0                                          | 0\n",
       "Grace Before Song                | Lord God of heaven that with mercy dight      | Th'alternate prayer wheel of the night and light  | Eternal hath to thee, and in whose sight   | Our days as rain drops in the sea surge fall,   | As bright white drops upon a leaden sea  | Grant so my songs to this grey folk may be: | As drops that dream and gleam and falling catch the sun  | Evan'scent mirrors every opal one     | Of such his splendor as their compass is,  | So, bold My Songs, seek ye such death as this.\n",
       "Ione, Dead the Long Year         | Empty are the ways,                           | Empty are the ways of this land                   | And the flowers                            | Bend over with heavy heads.                     | They bend in vain.                       | Empty are the ways of this land             | Where Ione                                               | Walked once, and now does not walk    | But seems like a person just gone.         | 0\n",
       "Ité                              | Go, my songs, seek your praise from the young | and from the intolerant,                          | Move among the lovers of perfection alone. | Seek ever to stand in the hard Sophoclean light | And take you wounds from it gladly.      | 0                                           | 0                                                        | 0                                     | 0                                          | 0\n",
       "... (13 rows omitted)"
      ]
     },
     "execution_count": 142,
     "metadata": {},
     "output_type": "execute_result"
    }
   ],
   "source": [
    "for y in arange(0, 10):\n",
    "    column_name = matrix_columns[y].pop(0)\n",
    "    line_matrix = line_matrix.with_column(column_name, matrix_columns[y])\n",
    "    \n",
    "line_matrix"
   ]
  },
  {
   "cell_type": "code",
   "execution_count": 143,
   "metadata": {
    "collapsed": true
   },
   "outputs": [],
   "source": [
    "# Next steps: Measure form\n",
    "# Rhyme: Lookup final word pronunciation\n",
    "# Compare pairs of lines (fuzzy comparison)\n",
    "# 1/0 Rhyming line or not\n",
    "# Measure concreteness/abstractness of (each word?)"
   ]
  },
  {
   "cell_type": "markdown",
   "metadata": {},
   "source": [
    "# Analysis"
   ]
  },
  {
   "cell_type": "code",
   "execution_count": 155,
   "metadata": {
    "collapsed": false
   },
   "outputs": [
    {
     "name": "stdout",
     "output_type": "stream",
     "text": [
      "1 7\n",
      "7 8\n",
      "8 4\n",
      "4 5\n",
      "5 3\n"
     ]
    }
   ],
   "source": [
    "# Find and isolate the last word in each line\n",
    "# Compare that word to neighboring lines by rhyme also checking different pronunciations\n",
    "    # Zip the neighboring lines together \n",
    "    \n",
    "lis = [1,7,8,4,5,3]\n",
    "for x, y in zip(lis, lis[1:]):\n",
    "    print(x,y)  \n",
    "    \n",
    "    # Note that unlike in the example, comparison has to happen by row array not by column array\n",
    "# Recall that matrix_columns is a 2D list containing [poem][lines]"
   ]
  },
  {
   "cell_type": "code",
   "execution_count": 152,
   "metadata": {
    "collapsed": true
   },
   "outputs": [
    {
     "data": {
      "text/plain": [
       "[['hands,',\n",
       "  '-',\n",
       "  'crowd:',\n",
       "  'leaves',\n",
       "  'idleness,',\n",
       "  'enough',\n",
       "  'silk,',\n",
       "  'dight',\n",
       "  'ways,',\n",
       "  'young',\n",
       "  'cloth,',\n",
       "  'dogs',\n",
       "  'Paradise',\n",
       "  'loves.',\n",
       "  'smug',\n",
       "  'hen',\n",
       "  'enough,',\n",
       "  'walls,',\n",
       "  'women',\n",
       "  'porcelain,',\n",
       "  'morality',\n",
       "  'dogs;',\n",
       "  'fountain,'],\n",
       " ['arms,',\n",
       "  'enough.',\n",
       "  'bough.',\n",
       "  'lily-of-the-valley',\n",
       "  'having.',\n",
       "  'enough',\n",
       "  'grass-blade,',\n",
       "  'light',\n",
       "  'land',\n",
       "  'intolerant,',\n",
       "  'eyes.',\n",
       "  'conclude',\n",
       "  'move',\n",
       "  'day',\n",
       "  'uncomfortable,',\n",
       "  'eggs',\n",
       "  'me,',\n",
       "  'them;',\n",
       "  'matters?',\n",
       "  'tepid,',\n",
       "  'me.',\n",
       "  'dimensions',\n",
       "  'rose-leaves,'],\n",
       " ['-',\n",
       "  'child',\n",
       "  0,\n",
       "  'dawn.',\n",
       "  'land,',\n",
       "  'mouse',\n",
       "  'aside.',\n",
       "  'sight',\n",
       "  'flowers',\n",
       "  'alone.',\n",
       "  0,\n",
       "  'animal.',\n",
       "  'speak',\n",
       "  'passed;',\n",
       "  'sun,',\n",
       "  'temperament',\n",
       "  'roses,',\n",
       "  'separation',\n",
       "  'repeat:',\n",
       "  'passion,',\n",
       "  'go',\n",
       "  'odor.',\n",
       "  'stone.'],\n",
       " ['Downward,',\n",
       "  'father;',\n",
       "  0,\n",
       "  0,\n",
       "  'living.',\n",
       "  'grass',\n",
       "  0,\n",
       "  'fall,',\n",
       "  'heads.',\n",
       "  'light',\n",
       "  0,\n",
       "  'man',\n",
       "  'paradise.',\n",
       "  'marginal',\n",
       "  'families,',\n",
       "  'begs.',\n",
       "  'different.',\n",
       "  'grass.',\n",
       "  'women',\n",
       "  'lady.',\n",
       "  'tissue',\n",
       "  'group:',\n",
       "  0],\n",
       " ['arms.',\n",
       "  'friends.',\n",
       "  0,\n",
       "  0,\n",
       "  'sweet,',\n",
       "  0,\n",
       "  0,\n",
       "  'sea',\n",
       "  'vain.',\n",
       "  'gladly.',\n",
       "  0,\n",
       "  'puzzled.',\n",
       "  'I',\n",
       "  0,\n",
       "  'teeth',\n",
       "  'philosophy,',\n",
       "  'delicate',\n",
       "  'cloud,',\n",
       "  'nonsense,',\n",
       "  0,\n",
       "  'napkin.',\n",
       "  'seniors,',\n",
       "  0],\n",
       " ['are,',\n",
       "  'wood,',\n",
       "  0,\n",
       "  0,\n",
       "  'grieving,',\n",
       "  0,\n",
       "  0,\n",
       "  'be:',\n",
       "  'land',\n",
       "  0,\n",
       "  0,\n",
       "  0,\n",
       "  'made',\n",
       "  0,\n",
       "  'laughter.',\n",
       "  'albumen.',\n",
       "  'beneath',\n",
       "  'acquaintances',\n",
       "  'antennae',\n",
       "  0,\n",
       "  0,\n",
       "  'mind',\n",
       "  0],\n",
       " ['are,',\n",
       "  'carving.',\n",
       "  0,\n",
       "  0,\n",
       "  'Hungary',\n",
       "  0,\n",
       "  0,\n",
       "  'sun',\n",
       "  'Ione',\n",
       "  0,\n",
       "  0,\n",
       "  0,\n",
       "  'forgive',\n",
       "  0,\n",
       "  'are,',\n",
       "  'form',\n",
       "  'underwave,',\n",
       "  'distance.',\n",
       "  'delightful.',\n",
       "  0,\n",
       "  0,\n",
       "  'correlations.',\n",
       "  0],\n",
       " ['them.',\n",
       "  '-',\n",
       "  0,\n",
       "  0,\n",
       "  'believing.',\n",
       "  0,\n",
       "  0,\n",
       "  'one',\n",
       "  'walk',\n",
       "  0,\n",
       "  0,\n",
       "  0,\n",
       "  'made.',\n",
       "  0,\n",
       "  'am;',\n",
       "  'human.',\n",
       "  'have,',\n",
       "  'others',\n",
       "  0,\n",
       "  0,\n",
       "  0,\n",
       "  'Tsin-Tsu:',\n",
       "  0],\n",
       " ['are,',\n",
       "  'us.',\n",
       "  0,\n",
       "  0,\n",
       "  0,\n",
       "  0,\n",
       "  0,\n",
       "  'is,',\n",
       "  'gone.',\n",
       "  0,\n",
       "  0,\n",
       "  0,\n",
       "  0,\n",
       "  0,\n",
       "  'lake',\n",
       "  0,\n",
       "  'god.',\n",
       "  'departing.',\n",
       "  0,\n",
       "  0,\n",
       "  0,\n",
       "  'young',\n",
       "  0],\n",
       " ['world.',\n",
       "  0,\n",
       "  0,\n",
       "  0,\n",
       "  0,\n",
       "  0,\n",
       "  0,\n",
       "  'this.',\n",
       "  0,\n",
       "  0,\n",
       "  0,\n",
       "  0,\n",
       "  0,\n",
       "  0,\n",
       "  'clothing.',\n",
       "  0,\n",
       "  0,\n",
       "  0,\n",
       "  0,\n",
       "  0,\n",
       "  0,\n",
       "  'observation',\n",
       "  0]]"
      ]
     },
     "execution_count": 152,
     "metadata": {},
     "output_type": "execute_result"
    }
   ],
   "source": [
    "last_words_list = [[], [], [], [], [], [], [], [], [], []]\n",
    "index = 0\n",
    "for _poem in matrix_columns:\n",
    "    for _line in _poem:\n",
    "        if _line != invalid_input:\n",
    "            s = _line\n",
    "            s = s.translate(string.punctuation)\n",
    "            # Bug: How can you make sure that none of the final words added are punctuation?\n",
    "            final_word = s.rsplit(None, 1)[-1]\n",
    "            last_words_list[index].append(final_word)\n",
    "        else: \n",
    "            last_words_list[index].append(invalid_input)\n",
    "    index += 1\n",
    "    \n",
    "last_words_list"
   ]
  }
 ],
 "metadata": {
  "kernelspec": {
   "display_name": "Python 3",
   "language": "python",
   "name": "python3"
  },
  "language_info": {
   "codemirror_mode": {
    "name": "ipython",
    "version": 3
   },
   "file_extension": ".py",
   "mimetype": "text/x-python",
   "name": "python",
   "nbconvert_exporter": "python",
   "pygments_lexer": "ipython3",
   "version": "3.5.0"
  }
 },
 "nbformat": 4,
 "nbformat_minor": 0
}
